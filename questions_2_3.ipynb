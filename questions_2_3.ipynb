{
  "cells": [
    {
      "cell_type": "code",
      "execution_count": 2,
      "metadata": {
        "id": "tiSyMce-qFQR"
      },
      "outputs": [],
      "source": [
        "import pandas as pd\n",
        "train_data = pd.read_csv('/content/drive/MyDrive/wikidata_train.txt', sep=\"\\t\", names=['entity_id','relation_id', 'answer', 'question']) #read train dataset\n",
        "val_data = pd.read_csv('/content/drive/MyDrive/wikidata_val.txt', sep=\"\\t\", names=['entity_id','relation_id', 'answer', 'question']) #read validation or test dataset (enter test set here)\n",
        "\n",
        "train_data = train_data.drop(labels='answer', axis=1) #drop answer\n",
        "val_data = val_data.drop(labels='answer', axis=1) #drop answer"
      ]
    },
    {
      "cell_type": "code",
      "execution_count": 3,
      "metadata": {
        "colab": {
          "base_uri": "https://localhost:8080/"
        },
        "id": "ETb0agr_uNiY",
        "outputId": "a99391ae-bc1c-45e8-9a17-22d299254cf5"
      },
      "outputs": [
        {
          "output_type": "stream",
          "name": "stdout",
          "text": [
            "Collecting sparqlwrapper\n",
            "  Downloading SPARQLWrapper-2.0.0-py3-none-any.whl (28 kB)\n",
            "Collecting rdflib>=6.1.1 (from sparqlwrapper)\n",
            "  Downloading rdflib-6.3.2-py3-none-any.whl (528 kB)\n",
            "\u001b[2K     \u001b[90m━━━━━━━━━━━━━━━━━━━━━━━━━━━━━━━━━━━━━━\u001b[0m \u001b[32m528.1/528.1 kB\u001b[0m \u001b[31m39.6 MB/s\u001b[0m eta \u001b[36m0:00:00\u001b[0m\n",
            "\u001b[?25hCollecting isodate<0.7.0,>=0.6.0 (from rdflib>=6.1.1->sparqlwrapper)\n",
            "  Downloading isodate-0.6.1-py2.py3-none-any.whl (41 kB)\n",
            "\u001b[2K     \u001b[90m━━━━━━━━━━━━━━━━━━━━━━━━━━━━━━━━━━━━━━━━\u001b[0m \u001b[32m41.7/41.7 kB\u001b[0m \u001b[31m5.0 MB/s\u001b[0m eta \u001b[36m0:00:00\u001b[0m\n",
            "\u001b[?25hRequirement already satisfied: pyparsing<4,>=2.1.0 in /usr/local/lib/python3.10/dist-packages (from rdflib>=6.1.1->sparqlwrapper) (3.1.0)\n",
            "Requirement already satisfied: six in /usr/local/lib/python3.10/dist-packages (from isodate<0.7.0,>=0.6.0->rdflib>=6.1.1->sparqlwrapper) (1.16.0)\n",
            "Installing collected packages: isodate, rdflib, sparqlwrapper\n",
            "Successfully installed isodate-0.6.1 rdflib-6.3.2 sparqlwrapper-2.0.0\n"
          ]
        }
      ],
      "source": [
        "!pip install sparqlwrapper"
      ]
    },
    {
      "cell_type": "code",
      "execution_count": 4,
      "metadata": {
        "id": "mFb4K4E4zYtE"
      },
      "outputs": [],
      "source": [
        "from SPARQLWrapper import SPARQLWrapper, JSON\n",
        "\n",
        "sparql = SPARQLWrapper(\"https://query.wikidata.org/sparql\", agent='ChicoBot Test agent')"
      ]
    },
    {
      "cell_type": "markdown",
      "metadata": {
        "id": "HnKwk9iGVhuw"
      },
      "source": [
        "Get train+validation entity ids using SPARQL"
      ]
    },
    {
      "cell_type": "code",
      "execution_count": 5,
      "metadata": {
        "id": "_1PW3MBFo2-y"
      },
      "outputs": [],
      "source": [
        "entity_names = []\n",
        "entity_ids = []\n",
        "for i in range(0,len(train_data),100):  #retrieve entities' corresponding ids\n",
        "  str = \"\"\n",
        "  for entity_id in train_data['entity_id'][i:i+100]:\n",
        "    str = str + \"wd:\" + entity_id + \" \"\n",
        "  sparql.setQuery(\"\"\"\n",
        "  SELECT ?item ?itemLabel\n",
        "  WHERE\n",
        "  {\n",
        "    VALUES ?item {\"\"\" + str + \"\"\"}\n",
        "    SERVICE wikibase:label { bd:serviceParam wikibase:language \"[AUTO_LANGUAGE],en\". }\n",
        "  }\n",
        "  \"\"\")\n",
        "  sparql.setReturnFormat(JSON)\n",
        "  results = sparql.query().convert()\n",
        "  results_df = pd.json_normalize(results['results']['bindings'])\n",
        "  for j in results_df['item.value']:\n",
        "      entity_ids.append(j)\n",
        "  for j in results_df['itemLabel.value']:\n",
        "      entity_names.append(j)"
      ]
    },
    {
      "cell_type": "code",
      "execution_count": 6,
      "metadata": {
        "id": "sKbG8I6tb00N"
      },
      "outputs": [],
      "source": [
        "val_entity_names = []\n",
        "val_entity_ids = []\n",
        "for i in range(0,len(val_data),100):  #same for validation set\n",
        "  str = \"\"\n",
        "  for entity_id in val_data['entity_id'][i:i+100]:\n",
        "    str = str + \"wd:\" + entity_id + \" \"\n",
        "  sparql.setQuery(\"\"\"\n",
        "  SELECT ?item ?itemLabel\n",
        "  WHERE\n",
        "  {\n",
        "    VALUES ?item {\"\"\" + str + \"\"\"}\n",
        "    SERVICE wikibase:label { bd:serviceParam wikibase:language \"[AUTO_LANGUAGE],en\". }\n",
        "  }\n",
        "  \"\"\")\n",
        "  sparql.setReturnFormat(JSON)\n",
        "  results = sparql.query().convert()\n",
        "  results_df = pd.json_normalize(results['results']['bindings'])\n",
        "  for j in results_df['item.value']:\n",
        "      val_entity_ids.append(j)\n",
        "  for j in results_df['itemLabel.value']:\n",
        "      val_entity_names.append(j)"
      ]
    },
    {
      "cell_type": "markdown",
      "metadata": {
        "id": "pUDLV1bTVy2r"
      },
      "source": [
        "Since SPARQL returns URI, extract ID from URI"
      ]
    },
    {
      "cell_type": "code",
      "execution_count": 7,
      "metadata": {
        "id": "1VKlNA8UMJIh"
      },
      "outputs": [],
      "source": [
        "entity_ids_without_link = []  #get ids from URIs\n",
        "for j in entity_ids:\n",
        "  entity_ids_without_link.append(j.split(\"http://www.wikidata.org/entity/\",1)[1])\n",
        "\n",
        "val_entity_ids_without_link = []\n",
        "for j in val_entity_ids:\n",
        "  val_entity_ids_without_link.append(j.split(\"http://www.wikidata.org/entity/\",1)[1])"
      ]
    },
    {
      "cell_type": "markdown",
      "metadata": {
        "id": "YylM8IFaV6l1"
      },
      "source": [
        "New column containing ID for train and validation/test set"
      ]
    },
    {
      "cell_type": "code",
      "execution_count": 8,
      "metadata": {
        "id": "R0cSbxyuC4GY"
      },
      "outputs": [],
      "source": [
        "new_df_column = []  #this will become the train_data new column, containing entities' labels\n",
        "for entity_id in train_data['entity_id']: #for every entity id in initial dataset\n",
        "  j=0\n",
        "  for parse in entity_ids_without_link: #find its id on list\n",
        "    if entity_id==parse:\n",
        "      new_df_column.append(entity_names[j]) #and find corresponding label\n",
        "      break\n",
        "    j += 1"
      ]
    },
    {
      "cell_type": "code",
      "execution_count": 9,
      "metadata": {
        "id": "Wy59sGobei5B"
      },
      "outputs": [],
      "source": [
        "val_new_df_column = []  #this will become the val_data new column, containing entities' labels\n",
        "for entity_id in val_data['entity_id']: #for every entity id in initial dataset\n",
        "  j=0\n",
        "  for parse in val_entity_ids_without_link: #find its id on list\n",
        "    if entity_id==parse:\n",
        "      val_new_df_column.append(val_entity_names[j]) #and find corresponding label\n",
        "      break\n",
        "    j += 1"
      ]
    },
    {
      "cell_type": "code",
      "execution_count": 10,
      "metadata": {
        "id": "iX0uLKIvQlMQ"
      },
      "outputs": [],
      "source": [
        "train_data['entity_label'] = new_df_column  #new column containing entity id\n",
        "val_data['entity_label'] = val_new_df_column"
      ]
    },
    {
      "cell_type": "code",
      "execution_count": 11,
      "metadata": {
        "id": "N-5UlHQUVEg5"
      },
      "outputs": [],
      "source": [
        "columns_titles = [\"entity_id\",\"entity_label\",\"relation_id\",\"question\"]\n",
        "train_data=train_data.reindex(columns=columns_titles)\n",
        "val_data = val_data.reindex(columns=columns_titles)"
      ]
    },
    {
      "cell_type": "markdown",
      "metadata": {
        "id": "-5cwNOMAWAg0"
      },
      "source": [
        "Create array of 0s and 1s representing entity label span"
      ]
    },
    {
      "cell_type": "code",
      "execution_count": 12,
      "metadata": {
        "id": "dCzOF0wzsWjf"
      },
      "outputs": [],
      "source": [
        "entity_span = []  #create entity span column\n",
        "parse = 0\n",
        "for question in train_data['question']:\n",
        "  current_entity = []\n",
        "  for word in question.split():\n",
        "    if word in train_data.iloc[parse]['entity_label'].casefold().split():\n",
        "      current_entity.append(1)\n",
        "    else:\n",
        "      current_entity.append(0)\n",
        "  entity_span.append(current_entity)\n",
        "  parse += 1\n",
        "\n",
        "train_data['entity_span'] = entity_span"
      ]
    },
    {
      "cell_type": "code",
      "execution_count": 13,
      "metadata": {
        "id": "lFBYIqkde-Wp"
      },
      "outputs": [],
      "source": [
        "val_entity_span = []  #create entity span column for validation set\n",
        "parse = 0\n",
        "for question in val_data['question']:\n",
        "  current_entity = []\n",
        "  for word in question.split():\n",
        "    if word in val_data.iloc[parse]['entity_label'].casefold().split():\n",
        "      current_entity.append(1)\n",
        "    else:\n",
        "      current_entity.append(0)\n",
        "  val_entity_span.append(current_entity)\n",
        "  parse += 1\n",
        "\n",
        "val_data['entity_span'] = val_entity_span"
      ]
    },
    {
      "cell_type": "code",
      "execution_count": 14,
      "metadata": {
        "colab": {
          "base_uri": "https://localhost:8080/",
          "height": 582,
          "referenced_widgets": [
            "90287df654c0408d835b5fbc61b1f570",
            "7c1ae89d33ad428d82319a0cafe2548a",
            "8ba3ce37753641c6a6a3f57fd7c12b87",
            "eccb5bdeb9b34839b98330bb356aef47",
            "899d22cbfb17424c86664936603674c3",
            "02296d76a7b04d5592cd0af050ac30ad",
            "13f35c13bf4d4e0d9d6e3ae8ef5e2660",
            "fee3d90124894aecb21a7c2b9c5b1bf7",
            "a33169bf768146e7be76c390dd06d3ad",
            "f58395a9e20040a2a28b069582240378",
            "0ac168b4fb5d4a649f45431d2c3bf860",
            "1822e6dd90a74ee6b92de002a5412812",
            "04ec4d2b551e4cab859a27c64e3e87c6",
            "a9976003fd264802916b75e73deeb686",
            "27834c62c1cd403493cc3ec999c98225",
            "e7ff7cc45fc648c98ae7d3395701e444",
            "f1ec84cacc654032b0403b4bea17d44d",
            "319d772737514e76aa83ddd84c4d7a28",
            "23c4900f99854aa6914b7d60f9d0e036",
            "e5046f147a044d81ab45118dd76a7d22",
            "7aaf3e85a3f446e1a00785e4ab8eaf9f",
            "c5342f7dbdbb4815bb18e3d4c6688d14",
            "0073494f4ce54120908e0ff71c8f9cfa",
            "9e32ae52f9364fbfbd0f334118087ab6",
            "c64edb6bd5814a5180580e262956e798",
            "6efe1f1f27454dcf8777ca9c558c74ac",
            "f5d2f70da8e440e8a1d0f280327ab740",
            "ecd8d73da9324060a9693fefce06a9c9",
            "d8e8f89e60ea4772a7cbccdd4298a4e6",
            "cbfc09accfdc42f8be26c4ea2458ef4d",
            "b7347624e5a040509c8e1e95457fb454",
            "bd92aec51f47448c8e86a7551c76c0ec",
            "32c891ebec694c259d677750c319c77f"
          ]
        },
        "id": "w1Tj9bmJae3j",
        "outputId": "76a96366-2fd5-4770-d4d3-23785b649e97"
      },
      "outputs": [
        {
          "output_type": "stream",
          "name": "stdout",
          "text": [
            "Collecting transformers\n",
            "  Downloading transformers-4.30.2-py3-none-any.whl (7.2 MB)\n",
            "\u001b[2K     \u001b[90m━━━━━━━━━━━━━━━━━━━━━━━━━━━━━━━━━━━━━━━━\u001b[0m \u001b[32m7.2/7.2 MB\u001b[0m \u001b[31m97.0 MB/s\u001b[0m eta \u001b[36m0:00:00\u001b[0m\n",
            "\u001b[?25hRequirement already satisfied: filelock in /usr/local/lib/python3.10/dist-packages (from transformers) (3.12.2)\n",
            "Collecting huggingface-hub<1.0,>=0.14.1 (from transformers)\n",
            "  Downloading huggingface_hub-0.16.4-py3-none-any.whl (268 kB)\n",
            "\u001b[2K     \u001b[90m━━━━━━━━━━━━━━━━━━━━━━━━━━━━━━━━━━━━━━\u001b[0m \u001b[32m268.8/268.8 kB\u001b[0m \u001b[31m28.0 MB/s\u001b[0m eta \u001b[36m0:00:00\u001b[0m\n",
            "\u001b[?25hRequirement already satisfied: numpy>=1.17 in /usr/local/lib/python3.10/dist-packages (from transformers) (1.22.4)\n",
            "Requirement already satisfied: packaging>=20.0 in /usr/local/lib/python3.10/dist-packages (from transformers) (23.1)\n",
            "Requirement already satisfied: pyyaml>=5.1 in /usr/local/lib/python3.10/dist-packages (from transformers) (6.0)\n",
            "Requirement already satisfied: regex!=2019.12.17 in /usr/local/lib/python3.10/dist-packages (from transformers) (2022.10.31)\n",
            "Requirement already satisfied: requests in /usr/local/lib/python3.10/dist-packages (from transformers) (2.27.1)\n",
            "Collecting tokenizers!=0.11.3,<0.14,>=0.11.1 (from transformers)\n",
            "  Downloading tokenizers-0.13.3-cp310-cp310-manylinux_2_17_x86_64.manylinux2014_x86_64.whl (7.8 MB)\n",
            "\u001b[2K     \u001b[90m━━━━━━━━━━━━━━━━━━━━━━━━━━━━━━━━━━━━━━━━\u001b[0m \u001b[32m7.8/7.8 MB\u001b[0m \u001b[31m92.4 MB/s\u001b[0m eta \u001b[36m0:00:00\u001b[0m\n",
            "\u001b[?25hCollecting safetensors>=0.3.1 (from transformers)\n",
            "  Downloading safetensors-0.3.1-cp310-cp310-manylinux_2_17_x86_64.manylinux2014_x86_64.whl (1.3 MB)\n",
            "\u001b[2K     \u001b[90m━━━━━━━━━━━━━━━━━━━━━━━━━━━━━━━━━━━━━━━━\u001b[0m \u001b[32m1.3/1.3 MB\u001b[0m \u001b[31m88.4 MB/s\u001b[0m eta \u001b[36m0:00:00\u001b[0m\n",
            "\u001b[?25hRequirement already satisfied: tqdm>=4.27 in /usr/local/lib/python3.10/dist-packages (from transformers) (4.65.0)\n",
            "Requirement already satisfied: fsspec in /usr/local/lib/python3.10/dist-packages (from huggingface-hub<1.0,>=0.14.1->transformers) (2023.6.0)\n",
            "Requirement already satisfied: typing-extensions>=3.7.4.3 in /usr/local/lib/python3.10/dist-packages (from huggingface-hub<1.0,>=0.14.1->transformers) (4.7.1)\n",
            "Requirement already satisfied: urllib3<1.27,>=1.21.1 in /usr/local/lib/python3.10/dist-packages (from requests->transformers) (1.26.16)\n",
            "Requirement already satisfied: certifi>=2017.4.17 in /usr/local/lib/python3.10/dist-packages (from requests->transformers) (2023.5.7)\n",
            "Requirement already satisfied: charset-normalizer~=2.0.0 in /usr/local/lib/python3.10/dist-packages (from requests->transformers) (2.0.12)\n",
            "Requirement already satisfied: idna<4,>=2.5 in /usr/local/lib/python3.10/dist-packages (from requests->transformers) (3.4)\n",
            "Installing collected packages: tokenizers, safetensors, huggingface-hub, transformers\n",
            "Successfully installed huggingface-hub-0.16.4 safetensors-0.3.1 tokenizers-0.13.3 transformers-4.30.2\n"
          ]
        },
        {
          "output_type": "display_data",
          "data": {
            "text/plain": [
              "Downloading (…)solve/main/vocab.txt:   0%|          | 0.00/232k [00:00<?, ?B/s]"
            ],
            "application/vnd.jupyter.widget-view+json": {
              "version_major": 2,
              "version_minor": 0,
              "model_id": "90287df654c0408d835b5fbc61b1f570"
            }
          },
          "metadata": {}
        },
        {
          "output_type": "display_data",
          "data": {
            "text/plain": [
              "Downloading (…)okenizer_config.json:   0%|          | 0.00/28.0 [00:00<?, ?B/s]"
            ],
            "application/vnd.jupyter.widget-view+json": {
              "version_major": 2,
              "version_minor": 0,
              "model_id": "1822e6dd90a74ee6b92de002a5412812"
            }
          },
          "metadata": {}
        },
        {
          "output_type": "display_data",
          "data": {
            "text/plain": [
              "Downloading (…)lve/main/config.json:   0%|          | 0.00/570 [00:00<?, ?B/s]"
            ],
            "application/vnd.jupyter.widget-view+json": {
              "version_major": 2,
              "version_minor": 0,
              "model_id": "0073494f4ce54120908e0ff71c8f9cfa"
            }
          },
          "metadata": {}
        }
      ],
      "source": [
        "!pip install transformers\n",
        "from transformers import BertTokenizer\n",
        "tokenizer = BertTokenizer.from_pretrained('bert-base-uncased')"
      ]
    },
    {
      "cell_type": "markdown",
      "metadata": {
        "id": "ISDr1EowWLSE"
      },
      "source": [
        "Relation vocabulary for multi-label relation classification"
      ]
    },
    {
      "cell_type": "code",
      "execution_count": 15,
      "metadata": {
        "id": "h7Ue0A6FmUda"
      },
      "outputs": [],
      "source": [
        "relation_vocabulary = []  #this will be the relations vocabulary, and the fine-tuned BERT model will classify each question relation as one of these categories\n",
        "for relation in train_data['relation_id']:\n",
        "  flag = 0\n",
        "  for already_saved_relation in relation_vocabulary:\n",
        "    if relation == already_saved_relation:\n",
        "      flag = 1\n",
        "      break\n",
        "  if flag == 0:\n",
        "    relation_vocabulary.append(relation)"
      ]
    },
    {
      "cell_type": "markdown",
      "metadata": {
        "id": "dbIwnV4xWTa8"
      },
      "source": [
        "Save questions and their encodings in lists for convenience"
      ]
    },
    {
      "cell_type": "code",
      "execution_count": 16,
      "metadata": {
        "id": "AQAV2CmZns4g"
      },
      "outputs": [],
      "source": [
        "train_questions = []\n",
        "for question in train_data['question']:\n",
        "  train_questions.append(question)\n",
        "train_encodings = tokenizer(train_questions, truncation=True, padding=True, return_tensors='pt')\n",
        "train_relations = []\n",
        "for relation in train_data['relation_id']:\n",
        "  count = 0\n",
        "  for relation_id in relation_vocabulary:\n",
        "    if relation == relation_id:\n",
        "      train_relations.append(count)\n",
        "    count += 1"
      ]
    },
    {
      "cell_type": "code",
      "execution_count": 17,
      "metadata": {
        "id": "AcMfpeGTfgcG"
      },
      "outputs": [],
      "source": [
        "val_questions = []\n",
        "for question in val_data['question']:\n",
        "  val_questions.append(question)\n",
        "val_encodings = tokenizer(val_questions, truncation=True, padding=True, return_tensors='pt')\n",
        "val_relations = []\n",
        "for relation in val_data['relation_id']:\n",
        "  count = 0\n",
        "  for relation_id in relation_vocabulary:\n",
        "    if relation == relation_id:\n",
        "      val_relations.append(count)\n",
        "    count += 1"
      ]
    },
    {
      "cell_type": "markdown",
      "metadata": {
        "id": "aYtxAW8sWiR_"
      },
      "source": [
        "Make one-hot encoded matrices for entity span start index (train set)"
      ]
    },
    {
      "cell_type": "code",
      "execution_count": 18,
      "metadata": {
        "id": "lOdCF8Qi0QmZ"
      },
      "outputs": [],
      "source": [
        "train_span_start = [] #find span start\n",
        "for span in train_data['entity_span']:\n",
        "  train_span_cur = []\n",
        "  set_zero = 0\n",
        "  for flag in span:\n",
        "    if (flag == 1 and set_zero == 0):\n",
        "      set_zero = 1\n",
        "      train_span_cur.append(1)\n",
        "      continue\n",
        "    if (flag == 0 or (flag == 1 and set_zero == 1)):\n",
        "      train_span_cur.append(0)\n",
        "  train_span_start.append(train_span_cur)\n",
        "\n",
        "max = 0\n",
        "for span in train_span_start:  #padding\n",
        "  if (len(span) > max):\n",
        "    max = len(span)\n",
        "for span in train_span_start:\n",
        "  for i in range(max - len(span)):\n",
        "    span.append(0)"
      ]
    },
    {
      "cell_type": "markdown",
      "metadata": {
        "id": "5icm9SC3W6V5"
      },
      "source": [
        "Find position of span start"
      ]
    },
    {
      "cell_type": "code",
      "execution_count": 19,
      "metadata": {
        "id": "kKZ0ZY4cNsDL"
      },
      "outputs": [],
      "source": [
        "import random #span start index (position of entity span's start)\n",
        "\n",
        "train_span_start_index = []\n",
        "for i in train_span_start:\n",
        "  counter = 0\n",
        "  for parser in i:\n",
        "    if parser == 1:\n",
        "      train_span_start_index.append(counter)\n",
        "      break\n",
        "    counter += 1\n",
        "    if counter == len(i):   #if no span is detected (array is full of 0's, set the span start as a random number)\n",
        "      train_span_start_index.append(random.randint(1, 10))"
      ]
    },
    {
      "cell_type": "markdown",
      "metadata": {
        "id": "AhvsFWXSW2VM"
      },
      "source": [
        "Make one-hot encoded matrices for entity span end index (train set)"
      ]
    },
    {
      "cell_type": "code",
      "execution_count": 20,
      "metadata": {
        "id": "uI-V0W-bNGlI"
      },
      "outputs": [],
      "source": [
        "train_span_end = [] #find span end\n",
        "for span in train_data['entity_span']:\n",
        "  train_span_cur = []\n",
        "  one_area = 0\n",
        "  counter = 0\n",
        "  for flag in span:\n",
        "    if flag == 0 and one_area == 0:\n",
        "      train_span_cur.append(0)\n",
        "    if flag == 1:\n",
        "      one_area = 1\n",
        "      train_span_cur.append(0)\n",
        "    if flag == 0 and one_area == 1:\n",
        "      train_span_cur[counter-1] = 1\n",
        "      train_span_cur.append(0)\n",
        "      one_area = 0\n",
        "    counter += 1\n",
        "  train_span_end.append(train_span_cur)\n",
        "\n",
        "max = 0\n",
        "for span in train_span_end:\n",
        "  if (len(span) > max):\n",
        "    max = len(span)\n",
        "for span in train_span_end:\n",
        "  for i in range(max - len(span)):\n",
        "    span.append(0)"
      ]
    },
    {
      "cell_type": "markdown",
      "metadata": {
        "id": "ebVCMePRXP7x"
      },
      "source": [
        "Find position of span end"
      ]
    },
    {
      "cell_type": "code",
      "execution_count": 21,
      "metadata": {
        "id": "AUYHQPQENxqS"
      },
      "outputs": [],
      "source": [
        "train_span_end_index = [] #span end index (position of entity span's end)\n",
        "for i in train_span_end:\n",
        "  counter = 0\n",
        "  for parser in i:\n",
        "    if parser == 1:\n",
        "      train_span_end_index.append(counter)\n",
        "      break\n",
        "    counter += 1\n",
        "    if counter == len(i):\n",
        "      train_span_end_index.append(random.randint(1, 10))"
      ]
    },
    {
      "cell_type": "markdown",
      "metadata": {
        "id": "g2XXo03dXUAl"
      },
      "source": [
        "Same procedure as above for validation set"
      ]
    },
    {
      "cell_type": "code",
      "execution_count": 22,
      "metadata": {
        "id": "1oe_iu2Q4keW"
      },
      "outputs": [],
      "source": [
        "val_span_start = [] #find span start on validation set\n",
        "for span in val_data['entity_span']:\n",
        "  val_span_cur = []\n",
        "  set_zero = 0\n",
        "  for flag in span:\n",
        "    if (flag == 1 and set_zero == 0):\n",
        "      set_zero = 1\n",
        "      val_span_cur.append(1)\n",
        "      continue\n",
        "    if (flag == 0 or (flag == 1 and set_zero == 1)):\n",
        "      val_span_cur.append(0)\n",
        "  val_span_start.append(val_span_cur)\n",
        "\n",
        "max = 0\n",
        "for span in val_span_start:\n",
        "  if (len(span) > max):\n",
        "    max = len(span)\n",
        "for span in val_span_start:\n",
        "  for i in range(max - len(span)):\n",
        "    span.append(0)"
      ]
    },
    {
      "cell_type": "code",
      "execution_count": 23,
      "metadata": {
        "id": "03ZCJ3ION12c"
      },
      "outputs": [],
      "source": [
        "val_span_start_index = [] #index of span start on validation set questions\n",
        "for i in val_span_start:\n",
        "  counter = 0\n",
        "  for parser in i:\n",
        "    if parser == 1:\n",
        "      val_span_start_index.append(counter)\n",
        "      break\n",
        "    counter += 1\n",
        "    if counter == len(i):\n",
        "      val_span_start_index.append(random.randint(1, 10))"
      ]
    },
    {
      "cell_type": "code",
      "execution_count": 24,
      "metadata": {
        "id": "_MTNQJERRdlB"
      },
      "outputs": [],
      "source": [
        "val_span_end = [] #find span end on validation set\n",
        "for span in val_data['entity_span']:\n",
        "  val_span_cur = []\n",
        "  one_area = 0\n",
        "  counter = 0\n",
        "  for flag in span:\n",
        "    if flag == 0 and one_area == 0:\n",
        "      val_span_cur.append(0)\n",
        "    if flag == 1:\n",
        "      one_area = 1\n",
        "      val_span_cur.append(0)\n",
        "    if flag == 0 and one_area == 1:\n",
        "      val_span_cur[counter-1] = 1\n",
        "      val_span_cur.append(0)\n",
        "      one_area = 0\n",
        "    counter += 1\n",
        "  val_span_end.append(val_span_cur)\n",
        "\n",
        "max = 0\n",
        "for span in val_span_end:   #padding\n",
        "  if (len(span) > max):\n",
        "    max = len(span)\n",
        "for span in val_span_end:\n",
        "  for i in range(max - len(span)):\n",
        "    span.append(0)"
      ]
    },
    {
      "cell_type": "code",
      "execution_count": 25,
      "metadata": {
        "id": "w9_eW7_pN7qr"
      },
      "outputs": [],
      "source": [
        "val_span_end_index = [] #index of span ending on validation set questions\n",
        "for i in val_span_end:\n",
        "  counter = 0\n",
        "  for parser in i:\n",
        "    if parser == 1:\n",
        "      val_span_end_index.append(counter)\n",
        "      break\n",
        "    counter += 1\n",
        "    if counter == len(i):\n",
        "      val_span_end_index.append(random.randint(1, 10))"
      ]
    },
    {
      "cell_type": "markdown",
      "metadata": {
        "id": "w5UuRqVTFYYl"
      },
      "source": [
        "Dataset for relation prediction model"
      ]
    },
    {
      "cell_type": "code",
      "execution_count": 26,
      "metadata": {
        "id": "OHwL2NxmpuYU"
      },
      "outputs": [],
      "source": [
        "import torch\n",
        "\n",
        "class Dataset(torch.utils.data.Dataset):\n",
        "    def __init__(self, encodings, labels):\n",
        "        self.encodings = encodings\n",
        "        self.labels = labels\n",
        "\n",
        "    def __getitem__(self, idx):\n",
        "        item = {key: torch.tensor(val[idx]) for key, val in self.encodings.items()}\n",
        "        item['labels'] = torch.tensor(self.labels[idx])\n",
        "        return item\n",
        "\n",
        "    def __len__(self):\n",
        "        return len(self.labels)\n",
        "\n",
        "train_dataset = Dataset(train_encodings, train_relations)\n",
        "val_dataset = Dataset(val_encodings, val_relations)"
      ]
    },
    {
      "cell_type": "code",
      "execution_count": 27,
      "metadata": {
        "id": "eD6xDZMqqt2y"
      },
      "outputs": [],
      "source": [
        "train_dataloader = torch.utils.data.DataLoader(train_dataset, batch_size=16, shuffle=True)\n",
        "val_dataloader = torch.utils.data.DataLoader(val_dataset, batch_size=16, shuffle=True)"
      ]
    },
    {
      "cell_type": "markdown",
      "metadata": {
        "id": "fni-l_C3Fi44"
      },
      "source": [
        "Neural network for relation prediction"
      ]
    },
    {
      "cell_type": "code",
      "execution_count": 28,
      "metadata": {
        "id": "YTg_-RPApP9S"
      },
      "outputs": [],
      "source": [
        "from transformers import BertModel\n",
        "import torch.nn as nn\n",
        "\n",
        "class BertNetwork(nn.Module):\n",
        "    def __init__(self):\n",
        "        super(BertNetwork, self).__init__()\n",
        "\n",
        "        self.bert = BertModel.from_pretrained(\"bert-base-uncased\")\n",
        "        self.out = nn.Linear(768, len(relation_vocabulary)) # we know that BERT ouput size is 768\n",
        "        self.relu = nn.ReLU()\n",
        "        self.sigmoid = nn.Sigmoid()\n",
        "        self.dropout = nn.Dropout(p=0.1)\n",
        "\n",
        "    def forward(self, input_ids, attention):\n",
        "        unused, h1 = self.bert(input_ids = input_ids, attention_mask = attention, return_dict = False)\n",
        "        h2 = self.out(h1)\n",
        "        h3 = self.relu(h2)\n",
        "        return h3"
      ]
    },
    {
      "cell_type": "code",
      "execution_count": 29,
      "metadata": {
        "colab": {
          "base_uri": "https://localhost:8080/",
          "height": 954,
          "referenced_widgets": [
            "b40f36503be841e5b3460f60b38d4e1f",
            "f443af46ff3a404581456fda1bfcead0",
            "a48821e9bd27490bbdd27f59995e1778",
            "5740fb14b069475a96b666be43ea603f",
            "aec0ff8469cf40aeb9befbd6546a216d",
            "f9413e8ccd074a2c85c5774a5aa322e1",
            "5e73bbc964ea4b14b971cf898fca5392",
            "edf7718699874db3b25aff646da43c96",
            "529e7f52eb6546ada7b6bfbbfdacd1c2",
            "bffcd443a3984d98a8549a92f85c8732",
            "4033cd292f914ffa9483309c59eb7fab"
          ]
        },
        "id": "tIMnWUXrvI1u",
        "outputId": "9578d921-bbb3-43b2-af96-d0412c499eda"
      },
      "outputs": [
        {
          "output_type": "stream",
          "name": "stdout",
          "text": [
            "device:  cpu\n"
          ]
        },
        {
          "output_type": "display_data",
          "data": {
            "text/plain": [
              "Downloading model.safetensors:   0%|          | 0.00/440M [00:00<?, ?B/s]"
            ],
            "application/vnd.jupyter.widget-view+json": {
              "version_major": 2,
              "version_minor": 0,
              "model_id": "b40f36503be841e5b3460f60b38d4e1f"
            }
          },
          "metadata": {}
        },
        {
          "output_type": "stream",
          "name": "stderr",
          "text": [
            "Some weights of the model checkpoint at bert-base-uncased were not used when initializing BertModel: ['cls.predictions.transform.dense.bias', 'cls.predictions.transform.LayerNorm.weight', 'cls.predictions.transform.LayerNorm.bias', 'cls.seq_relationship.weight', 'cls.seq_relationship.bias', 'cls.predictions.transform.dense.weight', 'cls.predictions.bias']\n",
            "- This IS expected if you are initializing BertModel from the checkpoint of a model trained on another task or with another architecture (e.g. initializing a BertForSequenceClassification model from a BertForPreTraining model).\n",
            "- This IS NOT expected if you are initializing BertModel from the checkpoint of a model that you expect to be exactly identical (initializing a BertForSequenceClassification model from a BertForSequenceClassification model).\n"
          ]
        },
        {
          "output_type": "execute_result",
          "data": {
            "text/plain": [
              "BertNetwork(\n",
              "  (bert): BertModel(\n",
              "    (embeddings): BertEmbeddings(\n",
              "      (word_embeddings): Embedding(30522, 768, padding_idx=0)\n",
              "      (position_embeddings): Embedding(512, 768)\n",
              "      (token_type_embeddings): Embedding(2, 768)\n",
              "      (LayerNorm): LayerNorm((768,), eps=1e-12, elementwise_affine=True)\n",
              "      (dropout): Dropout(p=0.1, inplace=False)\n",
              "    )\n",
              "    (encoder): BertEncoder(\n",
              "      (layer): ModuleList(\n",
              "        (0-11): 12 x BertLayer(\n",
              "          (attention): BertAttention(\n",
              "            (self): BertSelfAttention(\n",
              "              (query): Linear(in_features=768, out_features=768, bias=True)\n",
              "              (key): Linear(in_features=768, out_features=768, bias=True)\n",
              "              (value): Linear(in_features=768, out_features=768, bias=True)\n",
              "              (dropout): Dropout(p=0.1, inplace=False)\n",
              "            )\n",
              "            (output): BertSelfOutput(\n",
              "              (dense): Linear(in_features=768, out_features=768, bias=True)\n",
              "              (LayerNorm): LayerNorm((768,), eps=1e-12, elementwise_affine=True)\n",
              "              (dropout): Dropout(p=0.1, inplace=False)\n",
              "            )\n",
              "          )\n",
              "          (intermediate): BertIntermediate(\n",
              "            (dense): Linear(in_features=768, out_features=3072, bias=True)\n",
              "            (intermediate_act_fn): GELUActivation()\n",
              "          )\n",
              "          (output): BertOutput(\n",
              "            (dense): Linear(in_features=3072, out_features=768, bias=True)\n",
              "            (LayerNorm): LayerNorm((768,), eps=1e-12, elementwise_affine=True)\n",
              "            (dropout): Dropout(p=0.1, inplace=False)\n",
              "          )\n",
              "        )\n",
              "      )\n",
              "    )\n",
              "    (pooler): BertPooler(\n",
              "      (dense): Linear(in_features=768, out_features=768, bias=True)\n",
              "      (activation): Tanh()\n",
              "    )\n",
              "  )\n",
              "  (out): Linear(in_features=768, out_features=125, bias=True)\n",
              "  (relu): ReLU()\n",
              "  (sigmoid): Sigmoid()\n",
              "  (dropout): Dropout(p=0.1, inplace=False)\n",
              ")"
            ]
          },
          "metadata": {},
          "execution_count": 29
        }
      ],
      "source": [
        "device = torch.device('cuda' if (torch.cuda.is_available) else 'cpu')\n",
        "device = 'cpu'\n",
        "print('device: ', device)\n",
        "model = BertNetwork()\n",
        "model.to(device)"
      ]
    },
    {
      "cell_type": "markdown",
      "metadata": {
        "id": "7LQy5JHwXZPC"
      },
      "source": [
        "Train model for relation prediction"
      ]
    },
    {
      "cell_type": "code",
      "execution_count": 30,
      "metadata": {
        "id": "c0MVxsOEu-rw"
      },
      "outputs": [],
      "source": [
        "# import warnings\n",
        "# warnings.filterwarnings(\"ignore\")\n",
        "# from sklearn.metrics import f1_score\n",
        "# model.train()\n",
        "# optimizer = torch.optim.Adam(model.parameters(), lr=5e-5)\n",
        "# loss_func = nn.CrossEntropyLoss()\n",
        "# for epoch in range(1):\n",
        "#   num = 0\n",
        "#   loss_list = []\n",
        "#   accuracy_list = []\n",
        "#   f1_list = []\n",
        "#   accuracy_list_val = []\n",
        "#   f1_list_val = []\n",
        "#   for batch in train_dataloader:\n",
        "#     num += 1\n",
        "#     optimizer.zero_grad()\n",
        "#     output = model(batch['input_ids'],batch['attention_mask'])\n",
        "#     loss = loss_func(output, batch['labels'])\n",
        "#     loss_list.append(loss.item())\n",
        "#     accuracy_list.append((torch.argmax(output, dim=1) == batch['labels']).sum().item())\n",
        "#     f1_list.append(f1_score(batch['labels'], torch.argmax(output, dim=1), average='micro'))\n",
        "#     loss.backward()\n",
        "#     optimizer.step()\n",
        "#   with torch.no_grad():\n",
        "#     for val_batch in val_dataloader:\n",
        "#       output = model(val_batch['input_ids'],val_batch['attention_mask'])\n",
        "#       accuracy_list_val.append((torch.argmax(output, dim=1) == val_batch['labels']).sum().item())\n",
        "#       f1_list_val.append(f1_score(val_batch['labels'],torch.argmax(output, dim=1), average='micro'))\n",
        "#   print('Finished epoch ', epoch, 'with loss ', sum(loss_list)/len(loss_list), ', train accuracy', sum(accuracy_list)/len(train_dataloader.dataset), ', validation accuracy', sum(accuracy_list_val)/len(val_dataloader.dataset))\n",
        "#   print('Train F1 score', sum(f1_list)/len(train_dataloader), ', validation F1 score ', sum(f1_list_val)/len(val_dataloader))"
      ]
    },
    {
      "cell_type": "markdown",
      "metadata": {
        "id": "6ZR9SSbzXhWR"
      },
      "source": [
        "Save model"
      ]
    },
    {
      "cell_type": "code",
      "execution_count": 31,
      "metadata": {
        "id": "AwAu7_wsChI2"
      },
      "outputs": [],
      "source": [
        "# torch.save(model.state_dict(),'drive/MyDrive/relation_model')"
      ]
    },
    {
      "cell_type": "markdown",
      "metadata": {
        "id": "MdBAW2C-DQ0S"
      },
      "source": [
        "Entity span prediction\n"
      ]
    },
    {
      "cell_type": "code",
      "execution_count": 32,
      "metadata": {
        "id": "-UW5ruk4DMKL"
      },
      "outputs": [],
      "source": [
        "class SpanDataset(torch.utils.data.Dataset):\n",
        "    def __init__(self, encodings, span_start_indexes, span_end_indexes):\n",
        "        self.encodings = encodings\n",
        "        self.span_start_indexes = span_start_indexes\n",
        "        self.span_end_indexes = span_end_indexes\n",
        "\n",
        "    def __getitem__(self, idx):\n",
        "        item = {key: torch.tensor(val[idx]) for key, val in self.encodings.items()}\n",
        "        item['span_start_indexes'] = torch.tensor(self.span_start_indexes[idx])\n",
        "        item['span_end_indexes'] = torch.tensor(self.span_end_indexes[idx])\n",
        "        return item\n",
        "\n",
        "    def __len__(self):\n",
        "        return len(self.span_start_indexes)\n",
        "\n",
        "entity_train_dataset = SpanDataset(train_encodings, train_span_start_index, train_span_end_index)\n",
        "entity_val_dataset = SpanDataset(val_encodings, val_span_start_index, val_span_end_index)"
      ]
    },
    {
      "cell_type": "code",
      "execution_count": 33,
      "metadata": {
        "id": "xJiIor4sDwGW"
      },
      "outputs": [],
      "source": [
        "entity_train_dataloader = torch.utils.data.DataLoader(entity_train_dataset, batch_size=16, shuffle=True)\n",
        "entity_val_dataloader = torch.utils.data.DataLoader(entity_val_dataset, batch_size=16, shuffle=True)"
      ]
    },
    {
      "cell_type": "code",
      "execution_count": 34,
      "metadata": {
        "id": "NuVhcih9EpLT"
      },
      "outputs": [],
      "source": [
        "class EntityBertNetwork(nn.Module):\n",
        "    def __init__(self):\n",
        "        super(EntityBertNetwork, self).__init__()\n",
        "\n",
        "        self.bert = BertModel.from_pretrained(\"bert-base-uncased\")\n",
        "        self.out_start = nn.Linear(768, len(train_span_start[1])) # we know that BERT ouput size is 768\n",
        "        self.out_end = nn.Linear(768, len(train_span_end[1]))\n",
        "        self.relu = nn.ReLU()\n",
        "        self.sigmoid = nn.Sigmoid()\n",
        "        self.dropout = nn.Dropout(p=0.1)\n",
        "\n",
        "    def forward(self, input_ids, attention):\n",
        "        unused, h1 = self.bert(input_ids = input_ids, attention_mask = attention, return_dict = False)\n",
        "        h2_start = self.out_start(h1)\n",
        "        h3_start = self.relu(h2_start)\n",
        "        h2_end = self.out_end(h1)\n",
        "        h3_end = self.relu(h2_end)\n",
        "        return h3_start, h3_end"
      ]
    },
    {
      "cell_type": "code",
      "execution_count": 35,
      "metadata": {
        "colab": {
          "base_uri": "https://localhost:8080/"
        },
        "id": "nBWmaMpGFENV",
        "outputId": "50aae4bf-f10c-49df-ca4a-0f3ab1c228e0"
      },
      "outputs": [
        {
          "output_type": "stream",
          "name": "stdout",
          "text": [
            "device:  cpu\n"
          ]
        },
        {
          "output_type": "stream",
          "name": "stderr",
          "text": [
            "Some weights of the model checkpoint at bert-base-uncased were not used when initializing BertModel: ['cls.predictions.transform.dense.bias', 'cls.predictions.transform.LayerNorm.weight', 'cls.predictions.transform.LayerNorm.bias', 'cls.seq_relationship.weight', 'cls.seq_relationship.bias', 'cls.predictions.transform.dense.weight', 'cls.predictions.bias']\n",
            "- This IS expected if you are initializing BertModel from the checkpoint of a model trained on another task or with another architecture (e.g. initializing a BertForSequenceClassification model from a BertForPreTraining model).\n",
            "- This IS NOT expected if you are initializing BertModel from the checkpoint of a model that you expect to be exactly identical (initializing a BertForSequenceClassification model from a BertForSequenceClassification model).\n"
          ]
        },
        {
          "output_type": "execute_result",
          "data": {
            "text/plain": [
              "EntityBertNetwork(\n",
              "  (bert): BertModel(\n",
              "    (embeddings): BertEmbeddings(\n",
              "      (word_embeddings): Embedding(30522, 768, padding_idx=0)\n",
              "      (position_embeddings): Embedding(512, 768)\n",
              "      (token_type_embeddings): Embedding(2, 768)\n",
              "      (LayerNorm): LayerNorm((768,), eps=1e-12, elementwise_affine=True)\n",
              "      (dropout): Dropout(p=0.1, inplace=False)\n",
              "    )\n",
              "    (encoder): BertEncoder(\n",
              "      (layer): ModuleList(\n",
              "        (0-11): 12 x BertLayer(\n",
              "          (attention): BertAttention(\n",
              "            (self): BertSelfAttention(\n",
              "              (query): Linear(in_features=768, out_features=768, bias=True)\n",
              "              (key): Linear(in_features=768, out_features=768, bias=True)\n",
              "              (value): Linear(in_features=768, out_features=768, bias=True)\n",
              "              (dropout): Dropout(p=0.1, inplace=False)\n",
              "            )\n",
              "            (output): BertSelfOutput(\n",
              "              (dense): Linear(in_features=768, out_features=768, bias=True)\n",
              "              (LayerNorm): LayerNorm((768,), eps=1e-12, elementwise_affine=True)\n",
              "              (dropout): Dropout(p=0.1, inplace=False)\n",
              "            )\n",
              "          )\n",
              "          (intermediate): BertIntermediate(\n",
              "            (dense): Linear(in_features=768, out_features=3072, bias=True)\n",
              "            (intermediate_act_fn): GELUActivation()\n",
              "          )\n",
              "          (output): BertOutput(\n",
              "            (dense): Linear(in_features=3072, out_features=768, bias=True)\n",
              "            (LayerNorm): LayerNorm((768,), eps=1e-12, elementwise_affine=True)\n",
              "            (dropout): Dropout(p=0.1, inplace=False)\n",
              "          )\n",
              "        )\n",
              "      )\n",
              "    )\n",
              "    (pooler): BertPooler(\n",
              "      (dense): Linear(in_features=768, out_features=768, bias=True)\n",
              "      (activation): Tanh()\n",
              "    )\n",
              "  )\n",
              "  (out_start): Linear(in_features=768, out_features=33, bias=True)\n",
              "  (out_end): Linear(in_features=768, out_features=33, bias=True)\n",
              "  (relu): ReLU()\n",
              "  (sigmoid): Sigmoid()\n",
              "  (dropout): Dropout(p=0.1, inplace=False)\n",
              ")"
            ]
          },
          "metadata": {},
          "execution_count": 35
        }
      ],
      "source": [
        "device = torch.device('cuda' if (torch.cuda.is_available) else 'cpu')\n",
        "device = 'cpu'\n",
        "print('device: ', device)\n",
        "entity_model = EntityBertNetwork()\n",
        "entity_model.to(device)"
      ]
    },
    {
      "cell_type": "markdown",
      "metadata": {
        "id": "QBhnrDxfKHbB"
      },
      "source": [
        "Train entity span prediction model"
      ]
    },
    {
      "cell_type": "code",
      "execution_count": 36,
      "metadata": {
        "id": "w61pbghdFJZh"
      },
      "outputs": [],
      "source": [
        "# import warnings\n",
        "# warnings.filterwarnings(\"ignore\")\n",
        "# from sklearn.metrics import f1_score\n",
        "\n",
        "# entity_model.train()\n",
        "# optimizer = torch.optim.Adam(entity_model.parameters(), lr=5e-5)\n",
        "# loss_func = nn.CrossEntropyLoss()\n",
        "\n",
        "# for epoch in range(1):\n",
        "#   loss_list = []  #initialize evaluation metrics for new epoch\n",
        "#   accuracy_list = []\n",
        "#   f1_list = []\n",
        "#   f1_list_end = []\n",
        "#   accuracy_list_val = []\n",
        "#   f1_list_val = []\n",
        "#   f1_list_val_end = []\n",
        "\n",
        "#   for batch in entity_train_dataloader:\n",
        "#     optimizer.zero_grad()\n",
        "\n",
        "#     output_start, output_end = entity_model(batch['input_ids'], batch['attention_mask'])  #predict values\n",
        "\n",
        "#     loss = loss_func(output_start, batch['span_start_indexes']) + loss_func(output_end, batch['span_end_indexes'])\n",
        "#     loss_list.append(loss.item())\n",
        "\n",
        "#     accuracy_list.append((torch.argmax(output_start, dim=1) == batch['span_start_indexes']).sum().item())\n",
        "\n",
        "#     f1_list.append(f1_score(batch['span_start_indexes'], torch.argmax(output_start, dim=1), average='micro')) #batch F1 score for entity span start\n",
        "#     f1_list_end.append(f1_score(batch['span_end_indexes'], torch.argmax(output_end, dim=1), average='micro')) #batch F1 score for entity span end\n",
        "\n",
        "#     loss.backward()\n",
        "#     optimizer.step()\n",
        "#   with torch.no_grad(): #validation set evaluation\n",
        "#     for val_batch in entity_val_dataloader:\n",
        "\n",
        "#       output_start, output_end = entity_model(val_batch['input_ids'],val_batch['attention_mask'])\n",
        "#       accuracy_list_val.append((torch.argmax(output_start, dim=1) == val_batch['span_start_indexes']).sum().item())\n",
        "#       f1_list_val.append(f1_score(val_batch['span_start_indexes'],torch.argmax(output_start, dim=1), average='micro'))\n",
        "#       f1_list_val_end.append(f1_score(val_batch['span_end_indexes'],torch.argmax(output_end, dim=1), average='micro'))\n",
        "#   #print epoch results\n",
        "#   print('Finished epoch ', epoch, 'with loss ', sum(loss_list)/len(loss_list))\n",
        "#   print('Train accuracy start', sum(accuracy_list)/len(train_dataloader.dataset), ', validation accuracy start', sum(accuracy_list_val)/len(val_dataloader.dataset))\n",
        "#   print('Train F1 score start', sum(f1_list)/len(train_dataloader), ', validation F1 score start ', sum(f1_list_val)/len(val_dataloader))\n",
        "#   print('Train F1 score end', sum(f1_list_end)/len(train_dataloader), ', validation F1 score end ', sum(f1_list_val_end)/len(val_dataloader))"
      ]
    },
    {
      "cell_type": "markdown",
      "metadata": {
        "id": "WTVCJE9HXmrC"
      },
      "source": [
        "Save model"
      ]
    },
    {
      "cell_type": "code",
      "execution_count": 37,
      "metadata": {
        "id": "n092rS75CtJy"
      },
      "outputs": [],
      "source": [
        "# torch.save(entity_model.state_dict(),'drive/MyDrive/entity_model_2')"
      ]
    },
    {
      "cell_type": "markdown",
      "metadata": {
        "id": "Y7z3JKLvFGf-"
      },
      "source": [
        "Evaluate models on test set"
      ]
    },
    {
      "cell_type": "code",
      "execution_count": 38,
      "metadata": {
        "colab": {
          "base_uri": "https://localhost:8080/"
        },
        "id": "opjk4WMNFEkn",
        "outputId": "250b08aa-b64a-42a0-bff7-4cf84832f25e"
      },
      "outputs": [
        {
          "output_type": "execute_result",
          "data": {
            "text/plain": [
              "<All keys matched successfully>"
            ]
          },
          "metadata": {},
          "execution_count": 38
        }
      ],
      "source": [
        "#Load already trained model\n",
        "model.load_state_dict(torch.load('/content/drive/MyDrive/AI_final_models/relation_model'))\n",
        "entity_model.load_state_dict(torch.load('/content/drive/MyDrive/AI_final_models/entity_model'))"
      ]
    },
    {
      "cell_type": "code",
      "execution_count": 39,
      "metadata": {
        "colab": {
          "base_uri": "https://localhost:8080/"
        },
        "id": "3JHq5DuFSGsL",
        "outputId": "3f055fa7-6ee2-4e88-c05f-9b875ca1a7a6"
      },
      "outputs": [
        {
          "output_type": "stream",
          "name": "stdout",
          "text": [
            "Drive already mounted at /content/drive; to attempt to forcibly remount, call drive.mount(\"/content/drive\", force_remount=True).\n"
          ]
        }
      ],
      "source": [
        "from google.colab import drive\n",
        "drive.mount('/content/drive')"
      ]
    },
    {
      "cell_type": "code",
      "execution_count": 40,
      "metadata": {
        "colab": {
          "base_uri": "https://localhost:8080/"
        },
        "id": "Gssjj0RUFpuM",
        "outputId": "b996276e-3b36-4984-d527-7bee2aad23f8"
      },
      "outputs": [
        {
          "output_type": "stream",
          "name": "stdout",
          "text": [
            "Test accuracy for relation prediction 0.9549805033676001\n",
            "Test F1 score for relation prediction 0.9551553672316384\n"
          ]
        }
      ],
      "source": [
        "import warnings\n",
        "warnings.filterwarnings(\"ignore\")\n",
        "from sklearn.metrics import f1_score\n",
        "\n",
        "accuracy_list_val = []\n",
        "f1_list_val = []\n",
        "\n",
        "with torch.no_grad():\n",
        "    for val_batch in val_dataloader:\n",
        "      output = model(val_batch['input_ids'],val_batch['attention_mask'])\n",
        "      accuracy_list_val.append((torch.argmax(output, dim=1) == val_batch['labels']).sum().item())\n",
        "      f1_list_val.append(f1_score(val_batch['labels'],torch.argmax(output, dim=1), average='micro'))\n",
        "print('Test accuracy for relation prediction', sum(accuracy_list_val)/len(val_dataloader.dataset))\n",
        "print('Test F1 score for relation prediction', sum(f1_list_val)/len(val_dataloader))"
      ]
    },
    {
      "cell_type": "code",
      "execution_count": 41,
      "metadata": {
        "colab": {
          "base_uri": "https://localhost:8080/"
        },
        "id": "56rKrO1eFuRu",
        "outputId": "c1a218b1-3155-46e5-d2a9-fc6441c79fd5"
      },
      "outputs": [
        {
          "output_type": "stream",
          "name": "stdout",
          "text": [
            "Test accuracy for span prediction start 0.7961715703651188\n",
            "Test F1 score for span prediction start 0.7954096045197739\n",
            "Test F1 score for span prediction end 0.5514124293785311\n"
          ]
        }
      ],
      "source": [
        "accuracy_list = []\n",
        "accuracy_list_val = []\n",
        "f1_list_val = []\n",
        "f1_list_val_end = []\n",
        "\n",
        "with torch.no_grad(): #validation set evaluation\n",
        "    for val_batch in entity_val_dataloader:\n",
        "\n",
        "      output_start, output_end = entity_model(val_batch['input_ids'],val_batch['attention_mask'])\n",
        "      accuracy_list_val.append((torch.argmax(output_start, dim=1) == val_batch['span_start_indexes']).sum().item())\n",
        "      f1_list_val.append(f1_score(val_batch['span_start_indexes'],torch.argmax(output_start, dim=1), average='micro'))\n",
        "      f1_list_val_end.append(f1_score(val_batch['span_end_indexes'],torch.argmax(output_end, dim=1), average='micro'))\n",
        "print('Test accuracy for span prediction start', sum(accuracy_list_val)/len(val_dataloader.dataset))\n",
        "print('Test F1 score for span prediction start', sum(f1_list_val)/len(val_dataloader))\n",
        "print('Test F1 score for span prediction end', sum(f1_list_val_end)/len(val_dataloader))"
      ]
    },
    {
      "cell_type": "markdown",
      "metadata": {
        "id": "AcJpMW4zH_z-"
      },
      "source": [
        "QA engine ☺"
      ]
    },
    {
      "cell_type": "code",
      "source": [
        "t"
      ],
      "metadata": {
        "id": "kCurNCUatjYq"
      },
      "execution_count": null,
      "outputs": []
    },
    {
      "cell_type": "code",
      "execution_count": 62,
      "metadata": {
        "colab": {
          "base_uri": "https://localhost:8080/"
        },
        "id": "CWqU4T8ENF1T",
        "outputId": "89dcffaa-51f1-4d23-9cf5-0b230809c585"
      },
      "outputs": [
        {
          "name": "stdout",
          "output_type": "stream",
          "text": [
            "Welcome to the question answering engine. Type 'exit' to quit \n",
            "exit\n"
          ]
        }
      ],
      "source": [
        "print('Welcome to the question answering engine. Type \\'exit\\' to quit ')\n",
        "while(1):\n",
        "  question = input()  #read question\n",
        "  if question == \"exit\":\n",
        "    break\n",
        "  question_bert_ready = tokenizer(question, return_tensors = 'pt')  #prepare question for BERT model\n",
        "  relation_pred = model(question_bert_ready['input_ids'],question_bert_ready['attention_mask'])  #predict question relation\n",
        "  entity_start, entity_end = entity_model(question_bert_ready['input_ids'],question_bert_ready['attention_mask']) #predict question entity span\n",
        "\n",
        "  entity_name = ''  #initialize entity name\n",
        "  counter = 0\n",
        "  for question_word in question.split():  #save entity label\n",
        "    if counter >= torch.argmax(entity_start, dim=1).item() and counter <= torch.argmax(entity_end, dim=1).item():\n",
        "      if entity_name == '':\n",
        "        entity_name = entity_name + question_word\n",
        "      else:\n",
        "        entity_name = entity_name + ' ' + question_word #add gap between words\n",
        "    counter += 1\n",
        "  print('entity_name:',entity_name)\n",
        "\n",
        "  relation = relation_vocabulary[torch.argmax(relation_pred, dim=1).item()] #save relation\n",
        "  print('relation ',relation_vocabulary[torch.argmax(relation_pred, dim=1).item()])\n",
        "  counter = 0\n",
        "  for parser in train_data['entity_label']: #for given entity label, find its ID for sparql\n",
        "    if parser.lower().find(entity_name.lower()) >= 0:\n",
        "      entity_id = train_data['entity_id'][counter]\n",
        "    counter += 1\n",
        "  print('entity_id ', entity_id)\n",
        "\n",
        "  #ask for an answer to given entity and relation\n",
        "  # sparql.setQuery(\"\"\"\n",
        "  # SELECT ?item ?itemLabel\n",
        "  # WHERE\n",
        "  # {\n",
        "  #   wd:\"\"\" + entity_id + \"\"\" wdt:\"\"\" + relation + \"\"\" ?item.\n",
        "  #   SERVICE wikibase:label { bd:serviceParam wikibase:language \"[AUTO_LANGUAGE],en\". }\n",
        "  # }\n",
        "  #   \"\"\")\n",
        "  sparql.setQuery(\"\"\"\n",
        "  SELECT ?item\n",
        "  WHERE\n",
        "  {\n",
        "    ?item rdfs:label|skos:altLabel \"\"\" '\"' + entity_name + \"\"\"\"@en\n",
        "  }\n",
        "    \"\"\")\n",
        "  sparql.setReturnFormat(JSON)\n",
        "  results = sparql.query().convert()\n",
        "  results_df = pd.json_normalize(results['results']['bindings'])\n",
        "  if results_df.empty:  #if sparql returned no answer, print message\n",
        "    print('Sorry, no such entity found!')\n",
        "    continue\n",
        "  for j in results_df['item.value']:\n",
        "      answer_id = j[31:]\n",
        "      break\n",
        "  print('answer_id: ', answer_id)\n",
        "  sparql.setQuery(\"\"\"\n",
        "  SELECT ?item ?itemLabel\n",
        "  WHERE\n",
        "  {\n",
        "    wd:\"\"\" + answer_id + \"\"\" wdt:\"\"\" + relation + \"\"\" ?item.\n",
        "    SERVICE wikibase:label { bd:serviceParam wikibase:language \"[AUTO_LANGUAGE],en\". }\n",
        "  }\n",
        "  \"\"\")\n",
        "  sparql.setReturnFormat(JSON)\n",
        "  results = sparql.query().convert()\n",
        "  results_df = pd.json_normalize(results['results']['bindings'])\n",
        "  if results_df.empty:  #if sparql returned no answer, print message\n",
        "    print('Sorry, no answer available!')\n",
        "    continue\n",
        "  for j in results_df['itemLabel.value']:\n",
        "    answer_name = j\n",
        "    break\n",
        "  print('answer: ', answer_name)  #else print first returned answer :)"
      ]
    }
  ],
  "metadata": {
    "colab": {
      "provenance": []
    },
    "kernelspec": {
      "display_name": "Python 3",
      "name": "python3"
    },
    "language_info": {
      "name": "python"
    },
    "widgets": {
      "application/vnd.jupyter.widget-state+json": {
        "90287df654c0408d835b5fbc61b1f570": {
          "model_module": "@jupyter-widgets/controls",
          "model_name": "HBoxModel",
          "model_module_version": "1.5.0",
          "state": {
            "_dom_classes": [],
            "_model_module": "@jupyter-widgets/controls",
            "_model_module_version": "1.5.0",
            "_model_name": "HBoxModel",
            "_view_count": null,
            "_view_module": "@jupyter-widgets/controls",
            "_view_module_version": "1.5.0",
            "_view_name": "HBoxView",
            "box_style": "",
            "children": [
              "IPY_MODEL_7c1ae89d33ad428d82319a0cafe2548a",
              "IPY_MODEL_8ba3ce37753641c6a6a3f57fd7c12b87",
              "IPY_MODEL_eccb5bdeb9b34839b98330bb356aef47"
            ],
            "layout": "IPY_MODEL_899d22cbfb17424c86664936603674c3"
          }
        },
        "7c1ae89d33ad428d82319a0cafe2548a": {
          "model_module": "@jupyter-widgets/controls",
          "model_name": "HTMLModel",
          "model_module_version": "1.5.0",
          "state": {
            "_dom_classes": [],
            "_model_module": "@jupyter-widgets/controls",
            "_model_module_version": "1.5.0",
            "_model_name": "HTMLModel",
            "_view_count": null,
            "_view_module": "@jupyter-widgets/controls",
            "_view_module_version": "1.5.0",
            "_view_name": "HTMLView",
            "description": "",
            "description_tooltip": null,
            "layout": "IPY_MODEL_02296d76a7b04d5592cd0af050ac30ad",
            "placeholder": "​",
            "style": "IPY_MODEL_13f35c13bf4d4e0d9d6e3ae8ef5e2660",
            "value": "Downloading (…)solve/main/vocab.txt: 100%"
          }
        },
        "8ba3ce37753641c6a6a3f57fd7c12b87": {
          "model_module": "@jupyter-widgets/controls",
          "model_name": "FloatProgressModel",
          "model_module_version": "1.5.0",
          "state": {
            "_dom_classes": [],
            "_model_module": "@jupyter-widgets/controls",
            "_model_module_version": "1.5.0",
            "_model_name": "FloatProgressModel",
            "_view_count": null,
            "_view_module": "@jupyter-widgets/controls",
            "_view_module_version": "1.5.0",
            "_view_name": "ProgressView",
            "bar_style": "success",
            "description": "",
            "description_tooltip": null,
            "layout": "IPY_MODEL_fee3d90124894aecb21a7c2b9c5b1bf7",
            "max": 231508,
            "min": 0,
            "orientation": "horizontal",
            "style": "IPY_MODEL_a33169bf768146e7be76c390dd06d3ad",
            "value": 231508
          }
        },
        "eccb5bdeb9b34839b98330bb356aef47": {
          "model_module": "@jupyter-widgets/controls",
          "model_name": "HTMLModel",
          "model_module_version": "1.5.0",
          "state": {
            "_dom_classes": [],
            "_model_module": "@jupyter-widgets/controls",
            "_model_module_version": "1.5.0",
            "_model_name": "HTMLModel",
            "_view_count": null,
            "_view_module": "@jupyter-widgets/controls",
            "_view_module_version": "1.5.0",
            "_view_name": "HTMLView",
            "description": "",
            "description_tooltip": null,
            "layout": "IPY_MODEL_f58395a9e20040a2a28b069582240378",
            "placeholder": "​",
            "style": "IPY_MODEL_0ac168b4fb5d4a649f45431d2c3bf860",
            "value": " 232k/232k [00:00&lt;00:00, 8.47MB/s]"
          }
        },
        "899d22cbfb17424c86664936603674c3": {
          "model_module": "@jupyter-widgets/base",
          "model_name": "LayoutModel",
          "model_module_version": "1.2.0",
          "state": {
            "_model_module": "@jupyter-widgets/base",
            "_model_module_version": "1.2.0",
            "_model_name": "LayoutModel",
            "_view_count": null,
            "_view_module": "@jupyter-widgets/base",
            "_view_module_version": "1.2.0",
            "_view_name": "LayoutView",
            "align_content": null,
            "align_items": null,
            "align_self": null,
            "border": null,
            "bottom": null,
            "display": null,
            "flex": null,
            "flex_flow": null,
            "grid_area": null,
            "grid_auto_columns": null,
            "grid_auto_flow": null,
            "grid_auto_rows": null,
            "grid_column": null,
            "grid_gap": null,
            "grid_row": null,
            "grid_template_areas": null,
            "grid_template_columns": null,
            "grid_template_rows": null,
            "height": null,
            "justify_content": null,
            "justify_items": null,
            "left": null,
            "margin": null,
            "max_height": null,
            "max_width": null,
            "min_height": null,
            "min_width": null,
            "object_fit": null,
            "object_position": null,
            "order": null,
            "overflow": null,
            "overflow_x": null,
            "overflow_y": null,
            "padding": null,
            "right": null,
            "top": null,
            "visibility": null,
            "width": null
          }
        },
        "02296d76a7b04d5592cd0af050ac30ad": {
          "model_module": "@jupyter-widgets/base",
          "model_name": "LayoutModel",
          "model_module_version": "1.2.0",
          "state": {
            "_model_module": "@jupyter-widgets/base",
            "_model_module_version": "1.2.0",
            "_model_name": "LayoutModel",
            "_view_count": null,
            "_view_module": "@jupyter-widgets/base",
            "_view_module_version": "1.2.0",
            "_view_name": "LayoutView",
            "align_content": null,
            "align_items": null,
            "align_self": null,
            "border": null,
            "bottom": null,
            "display": null,
            "flex": null,
            "flex_flow": null,
            "grid_area": null,
            "grid_auto_columns": null,
            "grid_auto_flow": null,
            "grid_auto_rows": null,
            "grid_column": null,
            "grid_gap": null,
            "grid_row": null,
            "grid_template_areas": null,
            "grid_template_columns": null,
            "grid_template_rows": null,
            "height": null,
            "justify_content": null,
            "justify_items": null,
            "left": null,
            "margin": null,
            "max_height": null,
            "max_width": null,
            "min_height": null,
            "min_width": null,
            "object_fit": null,
            "object_position": null,
            "order": null,
            "overflow": null,
            "overflow_x": null,
            "overflow_y": null,
            "padding": null,
            "right": null,
            "top": null,
            "visibility": null,
            "width": null
          }
        },
        "13f35c13bf4d4e0d9d6e3ae8ef5e2660": {
          "model_module": "@jupyter-widgets/controls",
          "model_name": "DescriptionStyleModel",
          "model_module_version": "1.5.0",
          "state": {
            "_model_module": "@jupyter-widgets/controls",
            "_model_module_version": "1.5.0",
            "_model_name": "DescriptionStyleModel",
            "_view_count": null,
            "_view_module": "@jupyter-widgets/base",
            "_view_module_version": "1.2.0",
            "_view_name": "StyleView",
            "description_width": ""
          }
        },
        "fee3d90124894aecb21a7c2b9c5b1bf7": {
          "model_module": "@jupyter-widgets/base",
          "model_name": "LayoutModel",
          "model_module_version": "1.2.0",
          "state": {
            "_model_module": "@jupyter-widgets/base",
            "_model_module_version": "1.2.0",
            "_model_name": "LayoutModel",
            "_view_count": null,
            "_view_module": "@jupyter-widgets/base",
            "_view_module_version": "1.2.0",
            "_view_name": "LayoutView",
            "align_content": null,
            "align_items": null,
            "align_self": null,
            "border": null,
            "bottom": null,
            "display": null,
            "flex": null,
            "flex_flow": null,
            "grid_area": null,
            "grid_auto_columns": null,
            "grid_auto_flow": null,
            "grid_auto_rows": null,
            "grid_column": null,
            "grid_gap": null,
            "grid_row": null,
            "grid_template_areas": null,
            "grid_template_columns": null,
            "grid_template_rows": null,
            "height": null,
            "justify_content": null,
            "justify_items": null,
            "left": null,
            "margin": null,
            "max_height": null,
            "max_width": null,
            "min_height": null,
            "min_width": null,
            "object_fit": null,
            "object_position": null,
            "order": null,
            "overflow": null,
            "overflow_x": null,
            "overflow_y": null,
            "padding": null,
            "right": null,
            "top": null,
            "visibility": null,
            "width": null
          }
        },
        "a33169bf768146e7be76c390dd06d3ad": {
          "model_module": "@jupyter-widgets/controls",
          "model_name": "ProgressStyleModel",
          "model_module_version": "1.5.0",
          "state": {
            "_model_module": "@jupyter-widgets/controls",
            "_model_module_version": "1.5.0",
            "_model_name": "ProgressStyleModel",
            "_view_count": null,
            "_view_module": "@jupyter-widgets/base",
            "_view_module_version": "1.2.0",
            "_view_name": "StyleView",
            "bar_color": null,
            "description_width": ""
          }
        },
        "f58395a9e20040a2a28b069582240378": {
          "model_module": "@jupyter-widgets/base",
          "model_name": "LayoutModel",
          "model_module_version": "1.2.0",
          "state": {
            "_model_module": "@jupyter-widgets/base",
            "_model_module_version": "1.2.0",
            "_model_name": "LayoutModel",
            "_view_count": null,
            "_view_module": "@jupyter-widgets/base",
            "_view_module_version": "1.2.0",
            "_view_name": "LayoutView",
            "align_content": null,
            "align_items": null,
            "align_self": null,
            "border": null,
            "bottom": null,
            "display": null,
            "flex": null,
            "flex_flow": null,
            "grid_area": null,
            "grid_auto_columns": null,
            "grid_auto_flow": null,
            "grid_auto_rows": null,
            "grid_column": null,
            "grid_gap": null,
            "grid_row": null,
            "grid_template_areas": null,
            "grid_template_columns": null,
            "grid_template_rows": null,
            "height": null,
            "justify_content": null,
            "justify_items": null,
            "left": null,
            "margin": null,
            "max_height": null,
            "max_width": null,
            "min_height": null,
            "min_width": null,
            "object_fit": null,
            "object_position": null,
            "order": null,
            "overflow": null,
            "overflow_x": null,
            "overflow_y": null,
            "padding": null,
            "right": null,
            "top": null,
            "visibility": null,
            "width": null
          }
        },
        "0ac168b4fb5d4a649f45431d2c3bf860": {
          "model_module": "@jupyter-widgets/controls",
          "model_name": "DescriptionStyleModel",
          "model_module_version": "1.5.0",
          "state": {
            "_model_module": "@jupyter-widgets/controls",
            "_model_module_version": "1.5.0",
            "_model_name": "DescriptionStyleModel",
            "_view_count": null,
            "_view_module": "@jupyter-widgets/base",
            "_view_module_version": "1.2.0",
            "_view_name": "StyleView",
            "description_width": ""
          }
        },
        "1822e6dd90a74ee6b92de002a5412812": {
          "model_module": "@jupyter-widgets/controls",
          "model_name": "HBoxModel",
          "model_module_version": "1.5.0",
          "state": {
            "_dom_classes": [],
            "_model_module": "@jupyter-widgets/controls",
            "_model_module_version": "1.5.0",
            "_model_name": "HBoxModel",
            "_view_count": null,
            "_view_module": "@jupyter-widgets/controls",
            "_view_module_version": "1.5.0",
            "_view_name": "HBoxView",
            "box_style": "",
            "children": [
              "IPY_MODEL_04ec4d2b551e4cab859a27c64e3e87c6",
              "IPY_MODEL_a9976003fd264802916b75e73deeb686",
              "IPY_MODEL_27834c62c1cd403493cc3ec999c98225"
            ],
            "layout": "IPY_MODEL_e7ff7cc45fc648c98ae7d3395701e444"
          }
        },
        "04ec4d2b551e4cab859a27c64e3e87c6": {
          "model_module": "@jupyter-widgets/controls",
          "model_name": "HTMLModel",
          "model_module_version": "1.5.0",
          "state": {
            "_dom_classes": [],
            "_model_module": "@jupyter-widgets/controls",
            "_model_module_version": "1.5.0",
            "_model_name": "HTMLModel",
            "_view_count": null,
            "_view_module": "@jupyter-widgets/controls",
            "_view_module_version": "1.5.0",
            "_view_name": "HTMLView",
            "description": "",
            "description_tooltip": null,
            "layout": "IPY_MODEL_f1ec84cacc654032b0403b4bea17d44d",
            "placeholder": "​",
            "style": "IPY_MODEL_319d772737514e76aa83ddd84c4d7a28",
            "value": "Downloading (…)okenizer_config.json: 100%"
          }
        },
        "a9976003fd264802916b75e73deeb686": {
          "model_module": "@jupyter-widgets/controls",
          "model_name": "FloatProgressModel",
          "model_module_version": "1.5.0",
          "state": {
            "_dom_classes": [],
            "_model_module": "@jupyter-widgets/controls",
            "_model_module_version": "1.5.0",
            "_model_name": "FloatProgressModel",
            "_view_count": null,
            "_view_module": "@jupyter-widgets/controls",
            "_view_module_version": "1.5.0",
            "_view_name": "ProgressView",
            "bar_style": "success",
            "description": "",
            "description_tooltip": null,
            "layout": "IPY_MODEL_23c4900f99854aa6914b7d60f9d0e036",
            "max": 28,
            "min": 0,
            "orientation": "horizontal",
            "style": "IPY_MODEL_e5046f147a044d81ab45118dd76a7d22",
            "value": 28
          }
        },
        "27834c62c1cd403493cc3ec999c98225": {
          "model_module": "@jupyter-widgets/controls",
          "model_name": "HTMLModel",
          "model_module_version": "1.5.0",
          "state": {
            "_dom_classes": [],
            "_model_module": "@jupyter-widgets/controls",
            "_model_module_version": "1.5.0",
            "_model_name": "HTMLModel",
            "_view_count": null,
            "_view_module": "@jupyter-widgets/controls",
            "_view_module_version": "1.5.0",
            "_view_name": "HTMLView",
            "description": "",
            "description_tooltip": null,
            "layout": "IPY_MODEL_7aaf3e85a3f446e1a00785e4ab8eaf9f",
            "placeholder": "​",
            "style": "IPY_MODEL_c5342f7dbdbb4815bb18e3d4c6688d14",
            "value": " 28.0/28.0 [00:00&lt;00:00, 1.95kB/s]"
          }
        },
        "e7ff7cc45fc648c98ae7d3395701e444": {
          "model_module": "@jupyter-widgets/base",
          "model_name": "LayoutModel",
          "model_module_version": "1.2.0",
          "state": {
            "_model_module": "@jupyter-widgets/base",
            "_model_module_version": "1.2.0",
            "_model_name": "LayoutModel",
            "_view_count": null,
            "_view_module": "@jupyter-widgets/base",
            "_view_module_version": "1.2.0",
            "_view_name": "LayoutView",
            "align_content": null,
            "align_items": null,
            "align_self": null,
            "border": null,
            "bottom": null,
            "display": null,
            "flex": null,
            "flex_flow": null,
            "grid_area": null,
            "grid_auto_columns": null,
            "grid_auto_flow": null,
            "grid_auto_rows": null,
            "grid_column": null,
            "grid_gap": null,
            "grid_row": null,
            "grid_template_areas": null,
            "grid_template_columns": null,
            "grid_template_rows": null,
            "height": null,
            "justify_content": null,
            "justify_items": null,
            "left": null,
            "margin": null,
            "max_height": null,
            "max_width": null,
            "min_height": null,
            "min_width": null,
            "object_fit": null,
            "object_position": null,
            "order": null,
            "overflow": null,
            "overflow_x": null,
            "overflow_y": null,
            "padding": null,
            "right": null,
            "top": null,
            "visibility": null,
            "width": null
          }
        },
        "f1ec84cacc654032b0403b4bea17d44d": {
          "model_module": "@jupyter-widgets/base",
          "model_name": "LayoutModel",
          "model_module_version": "1.2.0",
          "state": {
            "_model_module": "@jupyter-widgets/base",
            "_model_module_version": "1.2.0",
            "_model_name": "LayoutModel",
            "_view_count": null,
            "_view_module": "@jupyter-widgets/base",
            "_view_module_version": "1.2.0",
            "_view_name": "LayoutView",
            "align_content": null,
            "align_items": null,
            "align_self": null,
            "border": null,
            "bottom": null,
            "display": null,
            "flex": null,
            "flex_flow": null,
            "grid_area": null,
            "grid_auto_columns": null,
            "grid_auto_flow": null,
            "grid_auto_rows": null,
            "grid_column": null,
            "grid_gap": null,
            "grid_row": null,
            "grid_template_areas": null,
            "grid_template_columns": null,
            "grid_template_rows": null,
            "height": null,
            "justify_content": null,
            "justify_items": null,
            "left": null,
            "margin": null,
            "max_height": null,
            "max_width": null,
            "min_height": null,
            "min_width": null,
            "object_fit": null,
            "object_position": null,
            "order": null,
            "overflow": null,
            "overflow_x": null,
            "overflow_y": null,
            "padding": null,
            "right": null,
            "top": null,
            "visibility": null,
            "width": null
          }
        },
        "319d772737514e76aa83ddd84c4d7a28": {
          "model_module": "@jupyter-widgets/controls",
          "model_name": "DescriptionStyleModel",
          "model_module_version": "1.5.0",
          "state": {
            "_model_module": "@jupyter-widgets/controls",
            "_model_module_version": "1.5.0",
            "_model_name": "DescriptionStyleModel",
            "_view_count": null,
            "_view_module": "@jupyter-widgets/base",
            "_view_module_version": "1.2.0",
            "_view_name": "StyleView",
            "description_width": ""
          }
        },
        "23c4900f99854aa6914b7d60f9d0e036": {
          "model_module": "@jupyter-widgets/base",
          "model_name": "LayoutModel",
          "model_module_version": "1.2.0",
          "state": {
            "_model_module": "@jupyter-widgets/base",
            "_model_module_version": "1.2.0",
            "_model_name": "LayoutModel",
            "_view_count": null,
            "_view_module": "@jupyter-widgets/base",
            "_view_module_version": "1.2.0",
            "_view_name": "LayoutView",
            "align_content": null,
            "align_items": null,
            "align_self": null,
            "border": null,
            "bottom": null,
            "display": null,
            "flex": null,
            "flex_flow": null,
            "grid_area": null,
            "grid_auto_columns": null,
            "grid_auto_flow": null,
            "grid_auto_rows": null,
            "grid_column": null,
            "grid_gap": null,
            "grid_row": null,
            "grid_template_areas": null,
            "grid_template_columns": null,
            "grid_template_rows": null,
            "height": null,
            "justify_content": null,
            "justify_items": null,
            "left": null,
            "margin": null,
            "max_height": null,
            "max_width": null,
            "min_height": null,
            "min_width": null,
            "object_fit": null,
            "object_position": null,
            "order": null,
            "overflow": null,
            "overflow_x": null,
            "overflow_y": null,
            "padding": null,
            "right": null,
            "top": null,
            "visibility": null,
            "width": null
          }
        },
        "e5046f147a044d81ab45118dd76a7d22": {
          "model_module": "@jupyter-widgets/controls",
          "model_name": "ProgressStyleModel",
          "model_module_version": "1.5.0",
          "state": {
            "_model_module": "@jupyter-widgets/controls",
            "_model_module_version": "1.5.0",
            "_model_name": "ProgressStyleModel",
            "_view_count": null,
            "_view_module": "@jupyter-widgets/base",
            "_view_module_version": "1.2.0",
            "_view_name": "StyleView",
            "bar_color": null,
            "description_width": ""
          }
        },
        "7aaf3e85a3f446e1a00785e4ab8eaf9f": {
          "model_module": "@jupyter-widgets/base",
          "model_name": "LayoutModel",
          "model_module_version": "1.2.0",
          "state": {
            "_model_module": "@jupyter-widgets/base",
            "_model_module_version": "1.2.0",
            "_model_name": "LayoutModel",
            "_view_count": null,
            "_view_module": "@jupyter-widgets/base",
            "_view_module_version": "1.2.0",
            "_view_name": "LayoutView",
            "align_content": null,
            "align_items": null,
            "align_self": null,
            "border": null,
            "bottom": null,
            "display": null,
            "flex": null,
            "flex_flow": null,
            "grid_area": null,
            "grid_auto_columns": null,
            "grid_auto_flow": null,
            "grid_auto_rows": null,
            "grid_column": null,
            "grid_gap": null,
            "grid_row": null,
            "grid_template_areas": null,
            "grid_template_columns": null,
            "grid_template_rows": null,
            "height": null,
            "justify_content": null,
            "justify_items": null,
            "left": null,
            "margin": null,
            "max_height": null,
            "max_width": null,
            "min_height": null,
            "min_width": null,
            "object_fit": null,
            "object_position": null,
            "order": null,
            "overflow": null,
            "overflow_x": null,
            "overflow_y": null,
            "padding": null,
            "right": null,
            "top": null,
            "visibility": null,
            "width": null
          }
        },
        "c5342f7dbdbb4815bb18e3d4c6688d14": {
          "model_module": "@jupyter-widgets/controls",
          "model_name": "DescriptionStyleModel",
          "model_module_version": "1.5.0",
          "state": {
            "_model_module": "@jupyter-widgets/controls",
            "_model_module_version": "1.5.0",
            "_model_name": "DescriptionStyleModel",
            "_view_count": null,
            "_view_module": "@jupyter-widgets/base",
            "_view_module_version": "1.2.0",
            "_view_name": "StyleView",
            "description_width": ""
          }
        },
        "0073494f4ce54120908e0ff71c8f9cfa": {
          "model_module": "@jupyter-widgets/controls",
          "model_name": "HBoxModel",
          "model_module_version": "1.5.0",
          "state": {
            "_dom_classes": [],
            "_model_module": "@jupyter-widgets/controls",
            "_model_module_version": "1.5.0",
            "_model_name": "HBoxModel",
            "_view_count": null,
            "_view_module": "@jupyter-widgets/controls",
            "_view_module_version": "1.5.0",
            "_view_name": "HBoxView",
            "box_style": "",
            "children": [
              "IPY_MODEL_9e32ae52f9364fbfbd0f334118087ab6",
              "IPY_MODEL_c64edb6bd5814a5180580e262956e798",
              "IPY_MODEL_6efe1f1f27454dcf8777ca9c558c74ac"
            ],
            "layout": "IPY_MODEL_f5d2f70da8e440e8a1d0f280327ab740"
          }
        },
        "9e32ae52f9364fbfbd0f334118087ab6": {
          "model_module": "@jupyter-widgets/controls",
          "model_name": "HTMLModel",
          "model_module_version": "1.5.0",
          "state": {
            "_dom_classes": [],
            "_model_module": "@jupyter-widgets/controls",
            "_model_module_version": "1.5.0",
            "_model_name": "HTMLModel",
            "_view_count": null,
            "_view_module": "@jupyter-widgets/controls",
            "_view_module_version": "1.5.0",
            "_view_name": "HTMLView",
            "description": "",
            "description_tooltip": null,
            "layout": "IPY_MODEL_ecd8d73da9324060a9693fefce06a9c9",
            "placeholder": "​",
            "style": "IPY_MODEL_d8e8f89e60ea4772a7cbccdd4298a4e6",
            "value": "Downloading (…)lve/main/config.json: 100%"
          }
        },
        "c64edb6bd5814a5180580e262956e798": {
          "model_module": "@jupyter-widgets/controls",
          "model_name": "FloatProgressModel",
          "model_module_version": "1.5.0",
          "state": {
            "_dom_classes": [],
            "_model_module": "@jupyter-widgets/controls",
            "_model_module_version": "1.5.0",
            "_model_name": "FloatProgressModel",
            "_view_count": null,
            "_view_module": "@jupyter-widgets/controls",
            "_view_module_version": "1.5.0",
            "_view_name": "ProgressView",
            "bar_style": "success",
            "description": "",
            "description_tooltip": null,
            "layout": "IPY_MODEL_cbfc09accfdc42f8be26c4ea2458ef4d",
            "max": 570,
            "min": 0,
            "orientation": "horizontal",
            "style": "IPY_MODEL_b7347624e5a040509c8e1e95457fb454",
            "value": 570
          }
        },
        "6efe1f1f27454dcf8777ca9c558c74ac": {
          "model_module": "@jupyter-widgets/controls",
          "model_name": "HTMLModel",
          "model_module_version": "1.5.0",
          "state": {
            "_dom_classes": [],
            "_model_module": "@jupyter-widgets/controls",
            "_model_module_version": "1.5.0",
            "_model_name": "HTMLModel",
            "_view_count": null,
            "_view_module": "@jupyter-widgets/controls",
            "_view_module_version": "1.5.0",
            "_view_name": "HTMLView",
            "description": "",
            "description_tooltip": null,
            "layout": "IPY_MODEL_bd92aec51f47448c8e86a7551c76c0ec",
            "placeholder": "​",
            "style": "IPY_MODEL_32c891ebec694c259d677750c319c77f",
            "value": " 570/570 [00:00&lt;00:00, 44.2kB/s]"
          }
        },
        "f5d2f70da8e440e8a1d0f280327ab740": {
          "model_module": "@jupyter-widgets/base",
          "model_name": "LayoutModel",
          "model_module_version": "1.2.0",
          "state": {
            "_model_module": "@jupyter-widgets/base",
            "_model_module_version": "1.2.0",
            "_model_name": "LayoutModel",
            "_view_count": null,
            "_view_module": "@jupyter-widgets/base",
            "_view_module_version": "1.2.0",
            "_view_name": "LayoutView",
            "align_content": null,
            "align_items": null,
            "align_self": null,
            "border": null,
            "bottom": null,
            "display": null,
            "flex": null,
            "flex_flow": null,
            "grid_area": null,
            "grid_auto_columns": null,
            "grid_auto_flow": null,
            "grid_auto_rows": null,
            "grid_column": null,
            "grid_gap": null,
            "grid_row": null,
            "grid_template_areas": null,
            "grid_template_columns": null,
            "grid_template_rows": null,
            "height": null,
            "justify_content": null,
            "justify_items": null,
            "left": null,
            "margin": null,
            "max_height": null,
            "max_width": null,
            "min_height": null,
            "min_width": null,
            "object_fit": null,
            "object_position": null,
            "order": null,
            "overflow": null,
            "overflow_x": null,
            "overflow_y": null,
            "padding": null,
            "right": null,
            "top": null,
            "visibility": null,
            "width": null
          }
        },
        "ecd8d73da9324060a9693fefce06a9c9": {
          "model_module": "@jupyter-widgets/base",
          "model_name": "LayoutModel",
          "model_module_version": "1.2.0",
          "state": {
            "_model_module": "@jupyter-widgets/base",
            "_model_module_version": "1.2.0",
            "_model_name": "LayoutModel",
            "_view_count": null,
            "_view_module": "@jupyter-widgets/base",
            "_view_module_version": "1.2.0",
            "_view_name": "LayoutView",
            "align_content": null,
            "align_items": null,
            "align_self": null,
            "border": null,
            "bottom": null,
            "display": null,
            "flex": null,
            "flex_flow": null,
            "grid_area": null,
            "grid_auto_columns": null,
            "grid_auto_flow": null,
            "grid_auto_rows": null,
            "grid_column": null,
            "grid_gap": null,
            "grid_row": null,
            "grid_template_areas": null,
            "grid_template_columns": null,
            "grid_template_rows": null,
            "height": null,
            "justify_content": null,
            "justify_items": null,
            "left": null,
            "margin": null,
            "max_height": null,
            "max_width": null,
            "min_height": null,
            "min_width": null,
            "object_fit": null,
            "object_position": null,
            "order": null,
            "overflow": null,
            "overflow_x": null,
            "overflow_y": null,
            "padding": null,
            "right": null,
            "top": null,
            "visibility": null,
            "width": null
          }
        },
        "d8e8f89e60ea4772a7cbccdd4298a4e6": {
          "model_module": "@jupyter-widgets/controls",
          "model_name": "DescriptionStyleModel",
          "model_module_version": "1.5.0",
          "state": {
            "_model_module": "@jupyter-widgets/controls",
            "_model_module_version": "1.5.0",
            "_model_name": "DescriptionStyleModel",
            "_view_count": null,
            "_view_module": "@jupyter-widgets/base",
            "_view_module_version": "1.2.0",
            "_view_name": "StyleView",
            "description_width": ""
          }
        },
        "cbfc09accfdc42f8be26c4ea2458ef4d": {
          "model_module": "@jupyter-widgets/base",
          "model_name": "LayoutModel",
          "model_module_version": "1.2.0",
          "state": {
            "_model_module": "@jupyter-widgets/base",
            "_model_module_version": "1.2.0",
            "_model_name": "LayoutModel",
            "_view_count": null,
            "_view_module": "@jupyter-widgets/base",
            "_view_module_version": "1.2.0",
            "_view_name": "LayoutView",
            "align_content": null,
            "align_items": null,
            "align_self": null,
            "border": null,
            "bottom": null,
            "display": null,
            "flex": null,
            "flex_flow": null,
            "grid_area": null,
            "grid_auto_columns": null,
            "grid_auto_flow": null,
            "grid_auto_rows": null,
            "grid_column": null,
            "grid_gap": null,
            "grid_row": null,
            "grid_template_areas": null,
            "grid_template_columns": null,
            "grid_template_rows": null,
            "height": null,
            "justify_content": null,
            "justify_items": null,
            "left": null,
            "margin": null,
            "max_height": null,
            "max_width": null,
            "min_height": null,
            "min_width": null,
            "object_fit": null,
            "object_position": null,
            "order": null,
            "overflow": null,
            "overflow_x": null,
            "overflow_y": null,
            "padding": null,
            "right": null,
            "top": null,
            "visibility": null,
            "width": null
          }
        },
        "b7347624e5a040509c8e1e95457fb454": {
          "model_module": "@jupyter-widgets/controls",
          "model_name": "ProgressStyleModel",
          "model_module_version": "1.5.0",
          "state": {
            "_model_module": "@jupyter-widgets/controls",
            "_model_module_version": "1.5.0",
            "_model_name": "ProgressStyleModel",
            "_view_count": null,
            "_view_module": "@jupyter-widgets/base",
            "_view_module_version": "1.2.0",
            "_view_name": "StyleView",
            "bar_color": null,
            "description_width": ""
          }
        },
        "bd92aec51f47448c8e86a7551c76c0ec": {
          "model_module": "@jupyter-widgets/base",
          "model_name": "LayoutModel",
          "model_module_version": "1.2.0",
          "state": {
            "_model_module": "@jupyter-widgets/base",
            "_model_module_version": "1.2.0",
            "_model_name": "LayoutModel",
            "_view_count": null,
            "_view_module": "@jupyter-widgets/base",
            "_view_module_version": "1.2.0",
            "_view_name": "LayoutView",
            "align_content": null,
            "align_items": null,
            "align_self": null,
            "border": null,
            "bottom": null,
            "display": null,
            "flex": null,
            "flex_flow": null,
            "grid_area": null,
            "grid_auto_columns": null,
            "grid_auto_flow": null,
            "grid_auto_rows": null,
            "grid_column": null,
            "grid_gap": null,
            "grid_row": null,
            "grid_template_areas": null,
            "grid_template_columns": null,
            "grid_template_rows": null,
            "height": null,
            "justify_content": null,
            "justify_items": null,
            "left": null,
            "margin": null,
            "max_height": null,
            "max_width": null,
            "min_height": null,
            "min_width": null,
            "object_fit": null,
            "object_position": null,
            "order": null,
            "overflow": null,
            "overflow_x": null,
            "overflow_y": null,
            "padding": null,
            "right": null,
            "top": null,
            "visibility": null,
            "width": null
          }
        },
        "32c891ebec694c259d677750c319c77f": {
          "model_module": "@jupyter-widgets/controls",
          "model_name": "DescriptionStyleModel",
          "model_module_version": "1.5.0",
          "state": {
            "_model_module": "@jupyter-widgets/controls",
            "_model_module_version": "1.5.0",
            "_model_name": "DescriptionStyleModel",
            "_view_count": null,
            "_view_module": "@jupyter-widgets/base",
            "_view_module_version": "1.2.0",
            "_view_name": "StyleView",
            "description_width": ""
          }
        },
        "b40f36503be841e5b3460f60b38d4e1f": {
          "model_module": "@jupyter-widgets/controls",
          "model_name": "HBoxModel",
          "model_module_version": "1.5.0",
          "state": {
            "_dom_classes": [],
            "_model_module": "@jupyter-widgets/controls",
            "_model_module_version": "1.5.0",
            "_model_name": "HBoxModel",
            "_view_count": null,
            "_view_module": "@jupyter-widgets/controls",
            "_view_module_version": "1.5.0",
            "_view_name": "HBoxView",
            "box_style": "",
            "children": [
              "IPY_MODEL_f443af46ff3a404581456fda1bfcead0",
              "IPY_MODEL_a48821e9bd27490bbdd27f59995e1778",
              "IPY_MODEL_5740fb14b069475a96b666be43ea603f"
            ],
            "layout": "IPY_MODEL_aec0ff8469cf40aeb9befbd6546a216d"
          }
        },
        "f443af46ff3a404581456fda1bfcead0": {
          "model_module": "@jupyter-widgets/controls",
          "model_name": "HTMLModel",
          "model_module_version": "1.5.0",
          "state": {
            "_dom_classes": [],
            "_model_module": "@jupyter-widgets/controls",
            "_model_module_version": "1.5.0",
            "_model_name": "HTMLModel",
            "_view_count": null,
            "_view_module": "@jupyter-widgets/controls",
            "_view_module_version": "1.5.0",
            "_view_name": "HTMLView",
            "description": "",
            "description_tooltip": null,
            "layout": "IPY_MODEL_f9413e8ccd074a2c85c5774a5aa322e1",
            "placeholder": "​",
            "style": "IPY_MODEL_5e73bbc964ea4b14b971cf898fca5392",
            "value": "Downloading model.safetensors: 100%"
          }
        },
        "a48821e9bd27490bbdd27f59995e1778": {
          "model_module": "@jupyter-widgets/controls",
          "model_name": "FloatProgressModel",
          "model_module_version": "1.5.0",
          "state": {
            "_dom_classes": [],
            "_model_module": "@jupyter-widgets/controls",
            "_model_module_version": "1.5.0",
            "_model_name": "FloatProgressModel",
            "_view_count": null,
            "_view_module": "@jupyter-widgets/controls",
            "_view_module_version": "1.5.0",
            "_view_name": "ProgressView",
            "bar_style": "success",
            "description": "",
            "description_tooltip": null,
            "layout": "IPY_MODEL_edf7718699874db3b25aff646da43c96",
            "max": 440449768,
            "min": 0,
            "orientation": "horizontal",
            "style": "IPY_MODEL_529e7f52eb6546ada7b6bfbbfdacd1c2",
            "value": 440449768
          }
        },
        "5740fb14b069475a96b666be43ea603f": {
          "model_module": "@jupyter-widgets/controls",
          "model_name": "HTMLModel",
          "model_module_version": "1.5.0",
          "state": {
            "_dom_classes": [],
            "_model_module": "@jupyter-widgets/controls",
            "_model_module_version": "1.5.0",
            "_model_name": "HTMLModel",
            "_view_count": null,
            "_view_module": "@jupyter-widgets/controls",
            "_view_module_version": "1.5.0",
            "_view_name": "HTMLView",
            "description": "",
            "description_tooltip": null,
            "layout": "IPY_MODEL_bffcd443a3984d98a8549a92f85c8732",
            "placeholder": "​",
            "style": "IPY_MODEL_4033cd292f914ffa9483309c59eb7fab",
            "value": " 440M/440M [00:01&lt;00:00, 338MB/s]"
          }
        },
        "aec0ff8469cf40aeb9befbd6546a216d": {
          "model_module": "@jupyter-widgets/base",
          "model_name": "LayoutModel",
          "model_module_version": "1.2.0",
          "state": {
            "_model_module": "@jupyter-widgets/base",
            "_model_module_version": "1.2.0",
            "_model_name": "LayoutModel",
            "_view_count": null,
            "_view_module": "@jupyter-widgets/base",
            "_view_module_version": "1.2.0",
            "_view_name": "LayoutView",
            "align_content": null,
            "align_items": null,
            "align_self": null,
            "border": null,
            "bottom": null,
            "display": null,
            "flex": null,
            "flex_flow": null,
            "grid_area": null,
            "grid_auto_columns": null,
            "grid_auto_flow": null,
            "grid_auto_rows": null,
            "grid_column": null,
            "grid_gap": null,
            "grid_row": null,
            "grid_template_areas": null,
            "grid_template_columns": null,
            "grid_template_rows": null,
            "height": null,
            "justify_content": null,
            "justify_items": null,
            "left": null,
            "margin": null,
            "max_height": null,
            "max_width": null,
            "min_height": null,
            "min_width": null,
            "object_fit": null,
            "object_position": null,
            "order": null,
            "overflow": null,
            "overflow_x": null,
            "overflow_y": null,
            "padding": null,
            "right": null,
            "top": null,
            "visibility": null,
            "width": null
          }
        },
        "f9413e8ccd074a2c85c5774a5aa322e1": {
          "model_module": "@jupyter-widgets/base",
          "model_name": "LayoutModel",
          "model_module_version": "1.2.0",
          "state": {
            "_model_module": "@jupyter-widgets/base",
            "_model_module_version": "1.2.0",
            "_model_name": "LayoutModel",
            "_view_count": null,
            "_view_module": "@jupyter-widgets/base",
            "_view_module_version": "1.2.0",
            "_view_name": "LayoutView",
            "align_content": null,
            "align_items": null,
            "align_self": null,
            "border": null,
            "bottom": null,
            "display": null,
            "flex": null,
            "flex_flow": null,
            "grid_area": null,
            "grid_auto_columns": null,
            "grid_auto_flow": null,
            "grid_auto_rows": null,
            "grid_column": null,
            "grid_gap": null,
            "grid_row": null,
            "grid_template_areas": null,
            "grid_template_columns": null,
            "grid_template_rows": null,
            "height": null,
            "justify_content": null,
            "justify_items": null,
            "left": null,
            "margin": null,
            "max_height": null,
            "max_width": null,
            "min_height": null,
            "min_width": null,
            "object_fit": null,
            "object_position": null,
            "order": null,
            "overflow": null,
            "overflow_x": null,
            "overflow_y": null,
            "padding": null,
            "right": null,
            "top": null,
            "visibility": null,
            "width": null
          }
        },
        "5e73bbc964ea4b14b971cf898fca5392": {
          "model_module": "@jupyter-widgets/controls",
          "model_name": "DescriptionStyleModel",
          "model_module_version": "1.5.0",
          "state": {
            "_model_module": "@jupyter-widgets/controls",
            "_model_module_version": "1.5.0",
            "_model_name": "DescriptionStyleModel",
            "_view_count": null,
            "_view_module": "@jupyter-widgets/base",
            "_view_module_version": "1.2.0",
            "_view_name": "StyleView",
            "description_width": ""
          }
        },
        "edf7718699874db3b25aff646da43c96": {
          "model_module": "@jupyter-widgets/base",
          "model_name": "LayoutModel",
          "model_module_version": "1.2.0",
          "state": {
            "_model_module": "@jupyter-widgets/base",
            "_model_module_version": "1.2.0",
            "_model_name": "LayoutModel",
            "_view_count": null,
            "_view_module": "@jupyter-widgets/base",
            "_view_module_version": "1.2.0",
            "_view_name": "LayoutView",
            "align_content": null,
            "align_items": null,
            "align_self": null,
            "border": null,
            "bottom": null,
            "display": null,
            "flex": null,
            "flex_flow": null,
            "grid_area": null,
            "grid_auto_columns": null,
            "grid_auto_flow": null,
            "grid_auto_rows": null,
            "grid_column": null,
            "grid_gap": null,
            "grid_row": null,
            "grid_template_areas": null,
            "grid_template_columns": null,
            "grid_template_rows": null,
            "height": null,
            "justify_content": null,
            "justify_items": null,
            "left": null,
            "margin": null,
            "max_height": null,
            "max_width": null,
            "min_height": null,
            "min_width": null,
            "object_fit": null,
            "object_position": null,
            "order": null,
            "overflow": null,
            "overflow_x": null,
            "overflow_y": null,
            "padding": null,
            "right": null,
            "top": null,
            "visibility": null,
            "width": null
          }
        },
        "529e7f52eb6546ada7b6bfbbfdacd1c2": {
          "model_module": "@jupyter-widgets/controls",
          "model_name": "ProgressStyleModel",
          "model_module_version": "1.5.0",
          "state": {
            "_model_module": "@jupyter-widgets/controls",
            "_model_module_version": "1.5.0",
            "_model_name": "ProgressStyleModel",
            "_view_count": null,
            "_view_module": "@jupyter-widgets/base",
            "_view_module_version": "1.2.0",
            "_view_name": "StyleView",
            "bar_color": null,
            "description_width": ""
          }
        },
        "bffcd443a3984d98a8549a92f85c8732": {
          "model_module": "@jupyter-widgets/base",
          "model_name": "LayoutModel",
          "model_module_version": "1.2.0",
          "state": {
            "_model_module": "@jupyter-widgets/base",
            "_model_module_version": "1.2.0",
            "_model_name": "LayoutModel",
            "_view_count": null,
            "_view_module": "@jupyter-widgets/base",
            "_view_module_version": "1.2.0",
            "_view_name": "LayoutView",
            "align_content": null,
            "align_items": null,
            "align_self": null,
            "border": null,
            "bottom": null,
            "display": null,
            "flex": null,
            "flex_flow": null,
            "grid_area": null,
            "grid_auto_columns": null,
            "grid_auto_flow": null,
            "grid_auto_rows": null,
            "grid_column": null,
            "grid_gap": null,
            "grid_row": null,
            "grid_template_areas": null,
            "grid_template_columns": null,
            "grid_template_rows": null,
            "height": null,
            "justify_content": null,
            "justify_items": null,
            "left": null,
            "margin": null,
            "max_height": null,
            "max_width": null,
            "min_height": null,
            "min_width": null,
            "object_fit": null,
            "object_position": null,
            "order": null,
            "overflow": null,
            "overflow_x": null,
            "overflow_y": null,
            "padding": null,
            "right": null,
            "top": null,
            "visibility": null,
            "width": null
          }
        },
        "4033cd292f914ffa9483309c59eb7fab": {
          "model_module": "@jupyter-widgets/controls",
          "model_name": "DescriptionStyleModel",
          "model_module_version": "1.5.0",
          "state": {
            "_model_module": "@jupyter-widgets/controls",
            "_model_module_version": "1.5.0",
            "_model_name": "DescriptionStyleModel",
            "_view_count": null,
            "_view_module": "@jupyter-widgets/base",
            "_view_module_version": "1.2.0",
            "_view_name": "StyleView",
            "description_width": ""
          }
        }
      }
    }
  },
  "nbformat": 4,
  "nbformat_minor": 0
}