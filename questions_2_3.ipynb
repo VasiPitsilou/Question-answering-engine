{
  "nbformat": 4,
  "nbformat_minor": 0,
  "metadata": {
    "colab": {
      "provenance": []
    },
    "kernelspec": {
      "name": "python3",
      "display_name": "Python 3"
    },
    "language_info": {
      "name": "python"
    },
    "widgets": {
      "application/vnd.jupyter.widget-state+json": {
        "376fc4ba747440fc98a0e0802d5a7bd5": {
          "model_module": "@jupyter-widgets/controls",
          "model_name": "HBoxModel",
          "model_module_version": "1.5.0",
          "state": {
            "_dom_classes": [],
            "_model_module": "@jupyter-widgets/controls",
            "_model_module_version": "1.5.0",
            "_model_name": "HBoxModel",
            "_view_count": null,
            "_view_module": "@jupyter-widgets/controls",
            "_view_module_version": "1.5.0",
            "_view_name": "HBoxView",
            "box_style": "",
            "children": [
              "IPY_MODEL_c969eb37bd104a03bdd581f106c9d92e",
              "IPY_MODEL_3d595c2251cf49e1a66f6de015b106cc",
              "IPY_MODEL_48961b6bc33648bea62999f78d7bb28a"
            ],
            "layout": "IPY_MODEL_0124164831a542aa929930910c45cb83"
          }
        },
        "c969eb37bd104a03bdd581f106c9d92e": {
          "model_module": "@jupyter-widgets/controls",
          "model_name": "HTMLModel",
          "model_module_version": "1.5.0",
          "state": {
            "_dom_classes": [],
            "_model_module": "@jupyter-widgets/controls",
            "_model_module_version": "1.5.0",
            "_model_name": "HTMLModel",
            "_view_count": null,
            "_view_module": "@jupyter-widgets/controls",
            "_view_module_version": "1.5.0",
            "_view_name": "HTMLView",
            "description": "",
            "description_tooltip": null,
            "layout": "IPY_MODEL_23316535fe1941fa8ff632ec24d1b956",
            "placeholder": "​",
            "style": "IPY_MODEL_34e06f184ce649fcba578cd4c03b66c7",
            "value": "Downloading (…)solve/main/vocab.txt: 100%"
          }
        },
        "3d595c2251cf49e1a66f6de015b106cc": {
          "model_module": "@jupyter-widgets/controls",
          "model_name": "FloatProgressModel",
          "model_module_version": "1.5.0",
          "state": {
            "_dom_classes": [],
            "_model_module": "@jupyter-widgets/controls",
            "_model_module_version": "1.5.0",
            "_model_name": "FloatProgressModel",
            "_view_count": null,
            "_view_module": "@jupyter-widgets/controls",
            "_view_module_version": "1.5.0",
            "_view_name": "ProgressView",
            "bar_style": "success",
            "description": "",
            "description_tooltip": null,
            "layout": "IPY_MODEL_bfa9a04198814f2cbc9b5e2d6b05c6bc",
            "max": 231508,
            "min": 0,
            "orientation": "horizontal",
            "style": "IPY_MODEL_feb72f37e1534276beedbea7eace9348",
            "value": 231508
          }
        },
        "48961b6bc33648bea62999f78d7bb28a": {
          "model_module": "@jupyter-widgets/controls",
          "model_name": "HTMLModel",
          "model_module_version": "1.5.0",
          "state": {
            "_dom_classes": [],
            "_model_module": "@jupyter-widgets/controls",
            "_model_module_version": "1.5.0",
            "_model_name": "HTMLModel",
            "_view_count": null,
            "_view_module": "@jupyter-widgets/controls",
            "_view_module_version": "1.5.0",
            "_view_name": "HTMLView",
            "description": "",
            "description_tooltip": null,
            "layout": "IPY_MODEL_1125ce65ce2142e888d1f34d0d9c716e",
            "placeholder": "​",
            "style": "IPY_MODEL_76a2ca71e4954adf9f97b956cb136045",
            "value": " 232k/232k [00:00&lt;00:00, 2.07MB/s]"
          }
        },
        "0124164831a542aa929930910c45cb83": {
          "model_module": "@jupyter-widgets/base",
          "model_name": "LayoutModel",
          "model_module_version": "1.2.0",
          "state": {
            "_model_module": "@jupyter-widgets/base",
            "_model_module_version": "1.2.0",
            "_model_name": "LayoutModel",
            "_view_count": null,
            "_view_module": "@jupyter-widgets/base",
            "_view_module_version": "1.2.0",
            "_view_name": "LayoutView",
            "align_content": null,
            "align_items": null,
            "align_self": null,
            "border": null,
            "bottom": null,
            "display": null,
            "flex": null,
            "flex_flow": null,
            "grid_area": null,
            "grid_auto_columns": null,
            "grid_auto_flow": null,
            "grid_auto_rows": null,
            "grid_column": null,
            "grid_gap": null,
            "grid_row": null,
            "grid_template_areas": null,
            "grid_template_columns": null,
            "grid_template_rows": null,
            "height": null,
            "justify_content": null,
            "justify_items": null,
            "left": null,
            "margin": null,
            "max_height": null,
            "max_width": null,
            "min_height": null,
            "min_width": null,
            "object_fit": null,
            "object_position": null,
            "order": null,
            "overflow": null,
            "overflow_x": null,
            "overflow_y": null,
            "padding": null,
            "right": null,
            "top": null,
            "visibility": null,
            "width": null
          }
        },
        "23316535fe1941fa8ff632ec24d1b956": {
          "model_module": "@jupyter-widgets/base",
          "model_name": "LayoutModel",
          "model_module_version": "1.2.0",
          "state": {
            "_model_module": "@jupyter-widgets/base",
            "_model_module_version": "1.2.0",
            "_model_name": "LayoutModel",
            "_view_count": null,
            "_view_module": "@jupyter-widgets/base",
            "_view_module_version": "1.2.0",
            "_view_name": "LayoutView",
            "align_content": null,
            "align_items": null,
            "align_self": null,
            "border": null,
            "bottom": null,
            "display": null,
            "flex": null,
            "flex_flow": null,
            "grid_area": null,
            "grid_auto_columns": null,
            "grid_auto_flow": null,
            "grid_auto_rows": null,
            "grid_column": null,
            "grid_gap": null,
            "grid_row": null,
            "grid_template_areas": null,
            "grid_template_columns": null,
            "grid_template_rows": null,
            "height": null,
            "justify_content": null,
            "justify_items": null,
            "left": null,
            "margin": null,
            "max_height": null,
            "max_width": null,
            "min_height": null,
            "min_width": null,
            "object_fit": null,
            "object_position": null,
            "order": null,
            "overflow": null,
            "overflow_x": null,
            "overflow_y": null,
            "padding": null,
            "right": null,
            "top": null,
            "visibility": null,
            "width": null
          }
        },
        "34e06f184ce649fcba578cd4c03b66c7": {
          "model_module": "@jupyter-widgets/controls",
          "model_name": "DescriptionStyleModel",
          "model_module_version": "1.5.0",
          "state": {
            "_model_module": "@jupyter-widgets/controls",
            "_model_module_version": "1.5.0",
            "_model_name": "DescriptionStyleModel",
            "_view_count": null,
            "_view_module": "@jupyter-widgets/base",
            "_view_module_version": "1.2.0",
            "_view_name": "StyleView",
            "description_width": ""
          }
        },
        "bfa9a04198814f2cbc9b5e2d6b05c6bc": {
          "model_module": "@jupyter-widgets/base",
          "model_name": "LayoutModel",
          "model_module_version": "1.2.0",
          "state": {
            "_model_module": "@jupyter-widgets/base",
            "_model_module_version": "1.2.0",
            "_model_name": "LayoutModel",
            "_view_count": null,
            "_view_module": "@jupyter-widgets/base",
            "_view_module_version": "1.2.0",
            "_view_name": "LayoutView",
            "align_content": null,
            "align_items": null,
            "align_self": null,
            "border": null,
            "bottom": null,
            "display": null,
            "flex": null,
            "flex_flow": null,
            "grid_area": null,
            "grid_auto_columns": null,
            "grid_auto_flow": null,
            "grid_auto_rows": null,
            "grid_column": null,
            "grid_gap": null,
            "grid_row": null,
            "grid_template_areas": null,
            "grid_template_columns": null,
            "grid_template_rows": null,
            "height": null,
            "justify_content": null,
            "justify_items": null,
            "left": null,
            "margin": null,
            "max_height": null,
            "max_width": null,
            "min_height": null,
            "min_width": null,
            "object_fit": null,
            "object_position": null,
            "order": null,
            "overflow": null,
            "overflow_x": null,
            "overflow_y": null,
            "padding": null,
            "right": null,
            "top": null,
            "visibility": null,
            "width": null
          }
        },
        "feb72f37e1534276beedbea7eace9348": {
          "model_module": "@jupyter-widgets/controls",
          "model_name": "ProgressStyleModel",
          "model_module_version": "1.5.0",
          "state": {
            "_model_module": "@jupyter-widgets/controls",
            "_model_module_version": "1.5.0",
            "_model_name": "ProgressStyleModel",
            "_view_count": null,
            "_view_module": "@jupyter-widgets/base",
            "_view_module_version": "1.2.0",
            "_view_name": "StyleView",
            "bar_color": null,
            "description_width": ""
          }
        },
        "1125ce65ce2142e888d1f34d0d9c716e": {
          "model_module": "@jupyter-widgets/base",
          "model_name": "LayoutModel",
          "model_module_version": "1.2.0",
          "state": {
            "_model_module": "@jupyter-widgets/base",
            "_model_module_version": "1.2.0",
            "_model_name": "LayoutModel",
            "_view_count": null,
            "_view_module": "@jupyter-widgets/base",
            "_view_module_version": "1.2.0",
            "_view_name": "LayoutView",
            "align_content": null,
            "align_items": null,
            "align_self": null,
            "border": null,
            "bottom": null,
            "display": null,
            "flex": null,
            "flex_flow": null,
            "grid_area": null,
            "grid_auto_columns": null,
            "grid_auto_flow": null,
            "grid_auto_rows": null,
            "grid_column": null,
            "grid_gap": null,
            "grid_row": null,
            "grid_template_areas": null,
            "grid_template_columns": null,
            "grid_template_rows": null,
            "height": null,
            "justify_content": null,
            "justify_items": null,
            "left": null,
            "margin": null,
            "max_height": null,
            "max_width": null,
            "min_height": null,
            "min_width": null,
            "object_fit": null,
            "object_position": null,
            "order": null,
            "overflow": null,
            "overflow_x": null,
            "overflow_y": null,
            "padding": null,
            "right": null,
            "top": null,
            "visibility": null,
            "width": null
          }
        },
        "76a2ca71e4954adf9f97b956cb136045": {
          "model_module": "@jupyter-widgets/controls",
          "model_name": "DescriptionStyleModel",
          "model_module_version": "1.5.0",
          "state": {
            "_model_module": "@jupyter-widgets/controls",
            "_model_module_version": "1.5.0",
            "_model_name": "DescriptionStyleModel",
            "_view_count": null,
            "_view_module": "@jupyter-widgets/base",
            "_view_module_version": "1.2.0",
            "_view_name": "StyleView",
            "description_width": ""
          }
        },
        "b4292ef046624deaa65b7752fbd57303": {
          "model_module": "@jupyter-widgets/controls",
          "model_name": "HBoxModel",
          "model_module_version": "1.5.0",
          "state": {
            "_dom_classes": [],
            "_model_module": "@jupyter-widgets/controls",
            "_model_module_version": "1.5.0",
            "_model_name": "HBoxModel",
            "_view_count": null,
            "_view_module": "@jupyter-widgets/controls",
            "_view_module_version": "1.5.0",
            "_view_name": "HBoxView",
            "box_style": "",
            "children": [
              "IPY_MODEL_7d4331cf4c654e5ca289b3f0c44aa4db",
              "IPY_MODEL_00c28b95540d4533be9f90af38f1a539",
              "IPY_MODEL_6cf2672c7f724d52855e7a936b94bb83"
            ],
            "layout": "IPY_MODEL_c67718c8b95f4d0080c3e71c869c4b92"
          }
        },
        "7d4331cf4c654e5ca289b3f0c44aa4db": {
          "model_module": "@jupyter-widgets/controls",
          "model_name": "HTMLModel",
          "model_module_version": "1.5.0",
          "state": {
            "_dom_classes": [],
            "_model_module": "@jupyter-widgets/controls",
            "_model_module_version": "1.5.0",
            "_model_name": "HTMLModel",
            "_view_count": null,
            "_view_module": "@jupyter-widgets/controls",
            "_view_module_version": "1.5.0",
            "_view_name": "HTMLView",
            "description": "",
            "description_tooltip": null,
            "layout": "IPY_MODEL_df1cb0a7bc75489a89789660e016aec5",
            "placeholder": "​",
            "style": "IPY_MODEL_36e17e5ab64248a4bc16cdbb7061912a",
            "value": "Downloading (…)okenizer_config.json: 100%"
          }
        },
        "00c28b95540d4533be9f90af38f1a539": {
          "model_module": "@jupyter-widgets/controls",
          "model_name": "FloatProgressModel",
          "model_module_version": "1.5.0",
          "state": {
            "_dom_classes": [],
            "_model_module": "@jupyter-widgets/controls",
            "_model_module_version": "1.5.0",
            "_model_name": "FloatProgressModel",
            "_view_count": null,
            "_view_module": "@jupyter-widgets/controls",
            "_view_module_version": "1.5.0",
            "_view_name": "ProgressView",
            "bar_style": "success",
            "description": "",
            "description_tooltip": null,
            "layout": "IPY_MODEL_623c51b950534524abbd382cd48a7912",
            "max": 28,
            "min": 0,
            "orientation": "horizontal",
            "style": "IPY_MODEL_7a2e9e143d824792a4f80ec3f2ca3fb8",
            "value": 28
          }
        },
        "6cf2672c7f724d52855e7a936b94bb83": {
          "model_module": "@jupyter-widgets/controls",
          "model_name": "HTMLModel",
          "model_module_version": "1.5.0",
          "state": {
            "_dom_classes": [],
            "_model_module": "@jupyter-widgets/controls",
            "_model_module_version": "1.5.0",
            "_model_name": "HTMLModel",
            "_view_count": null,
            "_view_module": "@jupyter-widgets/controls",
            "_view_module_version": "1.5.0",
            "_view_name": "HTMLView",
            "description": "",
            "description_tooltip": null,
            "layout": "IPY_MODEL_5079f199ec444d2bad59b9011c0a8ccc",
            "placeholder": "​",
            "style": "IPY_MODEL_1ee5819d91de4b6496b5d73bb92095dc",
            "value": " 28.0/28.0 [00:00&lt;00:00, 941B/s]"
          }
        },
        "c67718c8b95f4d0080c3e71c869c4b92": {
          "model_module": "@jupyter-widgets/base",
          "model_name": "LayoutModel",
          "model_module_version": "1.2.0",
          "state": {
            "_model_module": "@jupyter-widgets/base",
            "_model_module_version": "1.2.0",
            "_model_name": "LayoutModel",
            "_view_count": null,
            "_view_module": "@jupyter-widgets/base",
            "_view_module_version": "1.2.0",
            "_view_name": "LayoutView",
            "align_content": null,
            "align_items": null,
            "align_self": null,
            "border": null,
            "bottom": null,
            "display": null,
            "flex": null,
            "flex_flow": null,
            "grid_area": null,
            "grid_auto_columns": null,
            "grid_auto_flow": null,
            "grid_auto_rows": null,
            "grid_column": null,
            "grid_gap": null,
            "grid_row": null,
            "grid_template_areas": null,
            "grid_template_columns": null,
            "grid_template_rows": null,
            "height": null,
            "justify_content": null,
            "justify_items": null,
            "left": null,
            "margin": null,
            "max_height": null,
            "max_width": null,
            "min_height": null,
            "min_width": null,
            "object_fit": null,
            "object_position": null,
            "order": null,
            "overflow": null,
            "overflow_x": null,
            "overflow_y": null,
            "padding": null,
            "right": null,
            "top": null,
            "visibility": null,
            "width": null
          }
        },
        "df1cb0a7bc75489a89789660e016aec5": {
          "model_module": "@jupyter-widgets/base",
          "model_name": "LayoutModel",
          "model_module_version": "1.2.0",
          "state": {
            "_model_module": "@jupyter-widgets/base",
            "_model_module_version": "1.2.0",
            "_model_name": "LayoutModel",
            "_view_count": null,
            "_view_module": "@jupyter-widgets/base",
            "_view_module_version": "1.2.0",
            "_view_name": "LayoutView",
            "align_content": null,
            "align_items": null,
            "align_self": null,
            "border": null,
            "bottom": null,
            "display": null,
            "flex": null,
            "flex_flow": null,
            "grid_area": null,
            "grid_auto_columns": null,
            "grid_auto_flow": null,
            "grid_auto_rows": null,
            "grid_column": null,
            "grid_gap": null,
            "grid_row": null,
            "grid_template_areas": null,
            "grid_template_columns": null,
            "grid_template_rows": null,
            "height": null,
            "justify_content": null,
            "justify_items": null,
            "left": null,
            "margin": null,
            "max_height": null,
            "max_width": null,
            "min_height": null,
            "min_width": null,
            "object_fit": null,
            "object_position": null,
            "order": null,
            "overflow": null,
            "overflow_x": null,
            "overflow_y": null,
            "padding": null,
            "right": null,
            "top": null,
            "visibility": null,
            "width": null
          }
        },
        "36e17e5ab64248a4bc16cdbb7061912a": {
          "model_module": "@jupyter-widgets/controls",
          "model_name": "DescriptionStyleModel",
          "model_module_version": "1.5.0",
          "state": {
            "_model_module": "@jupyter-widgets/controls",
            "_model_module_version": "1.5.0",
            "_model_name": "DescriptionStyleModel",
            "_view_count": null,
            "_view_module": "@jupyter-widgets/base",
            "_view_module_version": "1.2.0",
            "_view_name": "StyleView",
            "description_width": ""
          }
        },
        "623c51b950534524abbd382cd48a7912": {
          "model_module": "@jupyter-widgets/base",
          "model_name": "LayoutModel",
          "model_module_version": "1.2.0",
          "state": {
            "_model_module": "@jupyter-widgets/base",
            "_model_module_version": "1.2.0",
            "_model_name": "LayoutModel",
            "_view_count": null,
            "_view_module": "@jupyter-widgets/base",
            "_view_module_version": "1.2.0",
            "_view_name": "LayoutView",
            "align_content": null,
            "align_items": null,
            "align_self": null,
            "border": null,
            "bottom": null,
            "display": null,
            "flex": null,
            "flex_flow": null,
            "grid_area": null,
            "grid_auto_columns": null,
            "grid_auto_flow": null,
            "grid_auto_rows": null,
            "grid_column": null,
            "grid_gap": null,
            "grid_row": null,
            "grid_template_areas": null,
            "grid_template_columns": null,
            "grid_template_rows": null,
            "height": null,
            "justify_content": null,
            "justify_items": null,
            "left": null,
            "margin": null,
            "max_height": null,
            "max_width": null,
            "min_height": null,
            "min_width": null,
            "object_fit": null,
            "object_position": null,
            "order": null,
            "overflow": null,
            "overflow_x": null,
            "overflow_y": null,
            "padding": null,
            "right": null,
            "top": null,
            "visibility": null,
            "width": null
          }
        },
        "7a2e9e143d824792a4f80ec3f2ca3fb8": {
          "model_module": "@jupyter-widgets/controls",
          "model_name": "ProgressStyleModel",
          "model_module_version": "1.5.0",
          "state": {
            "_model_module": "@jupyter-widgets/controls",
            "_model_module_version": "1.5.0",
            "_model_name": "ProgressStyleModel",
            "_view_count": null,
            "_view_module": "@jupyter-widgets/base",
            "_view_module_version": "1.2.0",
            "_view_name": "StyleView",
            "bar_color": null,
            "description_width": ""
          }
        },
        "5079f199ec444d2bad59b9011c0a8ccc": {
          "model_module": "@jupyter-widgets/base",
          "model_name": "LayoutModel",
          "model_module_version": "1.2.0",
          "state": {
            "_model_module": "@jupyter-widgets/base",
            "_model_module_version": "1.2.0",
            "_model_name": "LayoutModel",
            "_view_count": null,
            "_view_module": "@jupyter-widgets/base",
            "_view_module_version": "1.2.0",
            "_view_name": "LayoutView",
            "align_content": null,
            "align_items": null,
            "align_self": null,
            "border": null,
            "bottom": null,
            "display": null,
            "flex": null,
            "flex_flow": null,
            "grid_area": null,
            "grid_auto_columns": null,
            "grid_auto_flow": null,
            "grid_auto_rows": null,
            "grid_column": null,
            "grid_gap": null,
            "grid_row": null,
            "grid_template_areas": null,
            "grid_template_columns": null,
            "grid_template_rows": null,
            "height": null,
            "justify_content": null,
            "justify_items": null,
            "left": null,
            "margin": null,
            "max_height": null,
            "max_width": null,
            "min_height": null,
            "min_width": null,
            "object_fit": null,
            "object_position": null,
            "order": null,
            "overflow": null,
            "overflow_x": null,
            "overflow_y": null,
            "padding": null,
            "right": null,
            "top": null,
            "visibility": null,
            "width": null
          }
        },
        "1ee5819d91de4b6496b5d73bb92095dc": {
          "model_module": "@jupyter-widgets/controls",
          "model_name": "DescriptionStyleModel",
          "model_module_version": "1.5.0",
          "state": {
            "_model_module": "@jupyter-widgets/controls",
            "_model_module_version": "1.5.0",
            "_model_name": "DescriptionStyleModel",
            "_view_count": null,
            "_view_module": "@jupyter-widgets/base",
            "_view_module_version": "1.2.0",
            "_view_name": "StyleView",
            "description_width": ""
          }
        },
        "67ba1888d34a48498e75d6d46c13ea07": {
          "model_module": "@jupyter-widgets/controls",
          "model_name": "HBoxModel",
          "model_module_version": "1.5.0",
          "state": {
            "_dom_classes": [],
            "_model_module": "@jupyter-widgets/controls",
            "_model_module_version": "1.5.0",
            "_model_name": "HBoxModel",
            "_view_count": null,
            "_view_module": "@jupyter-widgets/controls",
            "_view_module_version": "1.5.0",
            "_view_name": "HBoxView",
            "box_style": "",
            "children": [
              "IPY_MODEL_3e9600f67a464bbd8c3cea59932eb3e5",
              "IPY_MODEL_aea1970d11b04aab813b6a02623c07f5",
              "IPY_MODEL_a5cba0dd798245bfa903c7f7c743d085"
            ],
            "layout": "IPY_MODEL_a85ac46596d04499973753dbfb9d0e3c"
          }
        },
        "3e9600f67a464bbd8c3cea59932eb3e5": {
          "model_module": "@jupyter-widgets/controls",
          "model_name": "HTMLModel",
          "model_module_version": "1.5.0",
          "state": {
            "_dom_classes": [],
            "_model_module": "@jupyter-widgets/controls",
            "_model_module_version": "1.5.0",
            "_model_name": "HTMLModel",
            "_view_count": null,
            "_view_module": "@jupyter-widgets/controls",
            "_view_module_version": "1.5.0",
            "_view_name": "HTMLView",
            "description": "",
            "description_tooltip": null,
            "layout": "IPY_MODEL_6ca277d1825f48b0a68a42832d0b7f8d",
            "placeholder": "​",
            "style": "IPY_MODEL_ba8ab90a50cd4909bd80f79142f8593f",
            "value": "Downloading (…)lve/main/config.json: 100%"
          }
        },
        "aea1970d11b04aab813b6a02623c07f5": {
          "model_module": "@jupyter-widgets/controls",
          "model_name": "FloatProgressModel",
          "model_module_version": "1.5.0",
          "state": {
            "_dom_classes": [],
            "_model_module": "@jupyter-widgets/controls",
            "_model_module_version": "1.5.0",
            "_model_name": "FloatProgressModel",
            "_view_count": null,
            "_view_module": "@jupyter-widgets/controls",
            "_view_module_version": "1.5.0",
            "_view_name": "ProgressView",
            "bar_style": "success",
            "description": "",
            "description_tooltip": null,
            "layout": "IPY_MODEL_1c2b4c506ef04a2185b73b328ff9c985",
            "max": 570,
            "min": 0,
            "orientation": "horizontal",
            "style": "IPY_MODEL_f3e44fab506344c0a75adf557feed563",
            "value": 570
          }
        },
        "a5cba0dd798245bfa903c7f7c743d085": {
          "model_module": "@jupyter-widgets/controls",
          "model_name": "HTMLModel",
          "model_module_version": "1.5.0",
          "state": {
            "_dom_classes": [],
            "_model_module": "@jupyter-widgets/controls",
            "_model_module_version": "1.5.0",
            "_model_name": "HTMLModel",
            "_view_count": null,
            "_view_module": "@jupyter-widgets/controls",
            "_view_module_version": "1.5.0",
            "_view_name": "HTMLView",
            "description": "",
            "description_tooltip": null,
            "layout": "IPY_MODEL_d74e844a71664777a2cd0e12e411befa",
            "placeholder": "​",
            "style": "IPY_MODEL_e707afcac56b47498025389141eafae0",
            "value": " 570/570 [00:00&lt;00:00, 28.1kB/s]"
          }
        },
        "a85ac46596d04499973753dbfb9d0e3c": {
          "model_module": "@jupyter-widgets/base",
          "model_name": "LayoutModel",
          "model_module_version": "1.2.0",
          "state": {
            "_model_module": "@jupyter-widgets/base",
            "_model_module_version": "1.2.0",
            "_model_name": "LayoutModel",
            "_view_count": null,
            "_view_module": "@jupyter-widgets/base",
            "_view_module_version": "1.2.0",
            "_view_name": "LayoutView",
            "align_content": null,
            "align_items": null,
            "align_self": null,
            "border": null,
            "bottom": null,
            "display": null,
            "flex": null,
            "flex_flow": null,
            "grid_area": null,
            "grid_auto_columns": null,
            "grid_auto_flow": null,
            "grid_auto_rows": null,
            "grid_column": null,
            "grid_gap": null,
            "grid_row": null,
            "grid_template_areas": null,
            "grid_template_columns": null,
            "grid_template_rows": null,
            "height": null,
            "justify_content": null,
            "justify_items": null,
            "left": null,
            "margin": null,
            "max_height": null,
            "max_width": null,
            "min_height": null,
            "min_width": null,
            "object_fit": null,
            "object_position": null,
            "order": null,
            "overflow": null,
            "overflow_x": null,
            "overflow_y": null,
            "padding": null,
            "right": null,
            "top": null,
            "visibility": null,
            "width": null
          }
        },
        "6ca277d1825f48b0a68a42832d0b7f8d": {
          "model_module": "@jupyter-widgets/base",
          "model_name": "LayoutModel",
          "model_module_version": "1.2.0",
          "state": {
            "_model_module": "@jupyter-widgets/base",
            "_model_module_version": "1.2.0",
            "_model_name": "LayoutModel",
            "_view_count": null,
            "_view_module": "@jupyter-widgets/base",
            "_view_module_version": "1.2.0",
            "_view_name": "LayoutView",
            "align_content": null,
            "align_items": null,
            "align_self": null,
            "border": null,
            "bottom": null,
            "display": null,
            "flex": null,
            "flex_flow": null,
            "grid_area": null,
            "grid_auto_columns": null,
            "grid_auto_flow": null,
            "grid_auto_rows": null,
            "grid_column": null,
            "grid_gap": null,
            "grid_row": null,
            "grid_template_areas": null,
            "grid_template_columns": null,
            "grid_template_rows": null,
            "height": null,
            "justify_content": null,
            "justify_items": null,
            "left": null,
            "margin": null,
            "max_height": null,
            "max_width": null,
            "min_height": null,
            "min_width": null,
            "object_fit": null,
            "object_position": null,
            "order": null,
            "overflow": null,
            "overflow_x": null,
            "overflow_y": null,
            "padding": null,
            "right": null,
            "top": null,
            "visibility": null,
            "width": null
          }
        },
        "ba8ab90a50cd4909bd80f79142f8593f": {
          "model_module": "@jupyter-widgets/controls",
          "model_name": "DescriptionStyleModel",
          "model_module_version": "1.5.0",
          "state": {
            "_model_module": "@jupyter-widgets/controls",
            "_model_module_version": "1.5.0",
            "_model_name": "DescriptionStyleModel",
            "_view_count": null,
            "_view_module": "@jupyter-widgets/base",
            "_view_module_version": "1.2.0",
            "_view_name": "StyleView",
            "description_width": ""
          }
        },
        "1c2b4c506ef04a2185b73b328ff9c985": {
          "model_module": "@jupyter-widgets/base",
          "model_name": "LayoutModel",
          "model_module_version": "1.2.0",
          "state": {
            "_model_module": "@jupyter-widgets/base",
            "_model_module_version": "1.2.0",
            "_model_name": "LayoutModel",
            "_view_count": null,
            "_view_module": "@jupyter-widgets/base",
            "_view_module_version": "1.2.0",
            "_view_name": "LayoutView",
            "align_content": null,
            "align_items": null,
            "align_self": null,
            "border": null,
            "bottom": null,
            "display": null,
            "flex": null,
            "flex_flow": null,
            "grid_area": null,
            "grid_auto_columns": null,
            "grid_auto_flow": null,
            "grid_auto_rows": null,
            "grid_column": null,
            "grid_gap": null,
            "grid_row": null,
            "grid_template_areas": null,
            "grid_template_columns": null,
            "grid_template_rows": null,
            "height": null,
            "justify_content": null,
            "justify_items": null,
            "left": null,
            "margin": null,
            "max_height": null,
            "max_width": null,
            "min_height": null,
            "min_width": null,
            "object_fit": null,
            "object_position": null,
            "order": null,
            "overflow": null,
            "overflow_x": null,
            "overflow_y": null,
            "padding": null,
            "right": null,
            "top": null,
            "visibility": null,
            "width": null
          }
        },
        "f3e44fab506344c0a75adf557feed563": {
          "model_module": "@jupyter-widgets/controls",
          "model_name": "ProgressStyleModel",
          "model_module_version": "1.5.0",
          "state": {
            "_model_module": "@jupyter-widgets/controls",
            "_model_module_version": "1.5.0",
            "_model_name": "ProgressStyleModel",
            "_view_count": null,
            "_view_module": "@jupyter-widgets/base",
            "_view_module_version": "1.2.0",
            "_view_name": "StyleView",
            "bar_color": null,
            "description_width": ""
          }
        },
        "d74e844a71664777a2cd0e12e411befa": {
          "model_module": "@jupyter-widgets/base",
          "model_name": "LayoutModel",
          "model_module_version": "1.2.0",
          "state": {
            "_model_module": "@jupyter-widgets/base",
            "_model_module_version": "1.2.0",
            "_model_name": "LayoutModel",
            "_view_count": null,
            "_view_module": "@jupyter-widgets/base",
            "_view_module_version": "1.2.0",
            "_view_name": "LayoutView",
            "align_content": null,
            "align_items": null,
            "align_self": null,
            "border": null,
            "bottom": null,
            "display": null,
            "flex": null,
            "flex_flow": null,
            "grid_area": null,
            "grid_auto_columns": null,
            "grid_auto_flow": null,
            "grid_auto_rows": null,
            "grid_column": null,
            "grid_gap": null,
            "grid_row": null,
            "grid_template_areas": null,
            "grid_template_columns": null,
            "grid_template_rows": null,
            "height": null,
            "justify_content": null,
            "justify_items": null,
            "left": null,
            "margin": null,
            "max_height": null,
            "max_width": null,
            "min_height": null,
            "min_width": null,
            "object_fit": null,
            "object_position": null,
            "order": null,
            "overflow": null,
            "overflow_x": null,
            "overflow_y": null,
            "padding": null,
            "right": null,
            "top": null,
            "visibility": null,
            "width": null
          }
        },
        "e707afcac56b47498025389141eafae0": {
          "model_module": "@jupyter-widgets/controls",
          "model_name": "DescriptionStyleModel",
          "model_module_version": "1.5.0",
          "state": {
            "_model_module": "@jupyter-widgets/controls",
            "_model_module_version": "1.5.0",
            "_model_name": "DescriptionStyleModel",
            "_view_count": null,
            "_view_module": "@jupyter-widgets/base",
            "_view_module_version": "1.2.0",
            "_view_name": "StyleView",
            "description_width": ""
          }
        }
      }
    },
    "accelerator": "GPU",
    "gpuClass": "standard"
  },
  "cells": [
    {
      "cell_type": "code",
      "execution_count": 6,
      "metadata": {
        "id": "tiSyMce-qFQR"
      },
      "outputs": [],
      "source": [
        "import pandas as pd\n",
        "train_data = pd.read_csv('wikidata_train.txt', sep=\"\\t\", names=['entity_id','relation_id', 'answer', 'question']) #read train dataset\n",
        "val_data = pd.read_csv('wikidata_test.txt', sep=\"\\t\", names=['entity_id','relation_id', 'answer', 'question']) #read validation or test dataset (enter test set here)\n",
        "\n",
        "train_data = train_data.drop(labels='answer', axis=1) #drop answer\n",
        "val_data = val_data.drop(labels='answer', axis=1) #drop answer "
      ]
    },
    {
      "cell_type": "code",
      "source": [
        "!pip install sparqlwrapper"
      ],
      "metadata": {
        "colab": {
          "base_uri": "https://localhost:8080/"
        },
        "id": "ETb0agr_uNiY",
        "outputId": "0d9a64bd-cc54-4d09-913a-a80c5fa67cc7"
      },
      "execution_count": 7,
      "outputs": [
        {
          "output_type": "stream",
          "name": "stdout",
          "text": [
            "Looking in indexes: https://pypi.org/simple, https://us-python.pkg.dev/colab-wheels/public/simple/\n",
            "Requirement already satisfied: sparqlwrapper in /usr/local/lib/python3.9/dist-packages (2.0.0)\n",
            "Requirement already satisfied: rdflib>=6.1.1 in /usr/local/lib/python3.9/dist-packages (from sparqlwrapper) (6.2.0)\n",
            "Requirement already satisfied: isodate in /usr/local/lib/python3.9/dist-packages (from rdflib>=6.1.1->sparqlwrapper) (0.6.1)\n",
            "Requirement already satisfied: pyparsing in /usr/local/lib/python3.9/dist-packages (from rdflib>=6.1.1->sparqlwrapper) (3.0.9)\n",
            "Requirement already satisfied: setuptools in /usr/local/lib/python3.9/dist-packages (from rdflib>=6.1.1->sparqlwrapper) (57.4.0)\n",
            "Requirement already satisfied: six in /usr/local/lib/python3.9/dist-packages (from isodate->rdflib>=6.1.1->sparqlwrapper) (1.15.0)\n"
          ]
        }
      ]
    },
    {
      "cell_type": "code",
      "source": [
        "from SPARQLWrapper import SPARQLWrapper, JSON\n",
        "\n",
        "sparql = SPARQLWrapper(\"https://query.wikidata.org/sparql\", agent='ChicoBot Test agent')"
      ],
      "metadata": {
        "id": "mFb4K4E4zYtE"
      },
      "execution_count": 8,
      "outputs": []
    },
    {
      "cell_type": "markdown",
      "source": [
        "Get train+validation entity ids using SPARQL"
      ],
      "metadata": {
        "id": "HnKwk9iGVhuw"
      }
    },
    {
      "cell_type": "code",
      "source": [
        "entity_names = []\n",
        "entity_ids = []\n",
        "for i in range(0,len(train_data),100):  #retrieve entities' corresponding ids\n",
        "  str = \"\"\n",
        "  for entity_id in train_data['entity_id'][i:i+100]:\n",
        "    str = str + \"wd:\" + entity_id + \" \"\n",
        "  sparql.setQuery(\"\"\"\n",
        "  SELECT ?item ?itemLabel \n",
        "  WHERE\n",
        "  {\n",
        "    VALUES ?item {\"\"\" + str + \"\"\"}\n",
        "    SERVICE wikibase:label { bd:serviceParam wikibase:language \"[AUTO_LANGUAGE],en\". }\n",
        "  }\n",
        "  \"\"\")\n",
        "  sparql.setReturnFormat(JSON)\n",
        "  results = sparql.query().convert()\n",
        "  results_df = pd.json_normalize(results['results']['bindings'])\n",
        "  for j in results_df['item.value']:\n",
        "      entity_ids.append(j)\n",
        "  for j in results_df['itemLabel.value']:\n",
        "      entity_names.append(j)"
      ],
      "metadata": {
        "id": "_1PW3MBFo2-y"
      },
      "execution_count": 9,
      "outputs": []
    },
    {
      "cell_type": "code",
      "source": [
        "val_entity_names = []\n",
        "val_entity_ids = []\n",
        "for i in range(0,len(val_data),100):  #same for validation set\n",
        "  str = \"\"\n",
        "  for entity_id in val_data['entity_id'][i:i+100]:\n",
        "    str = str + \"wd:\" + entity_id + \" \"\n",
        "  sparql.setQuery(\"\"\"\n",
        "  SELECT ?item ?itemLabel \n",
        "  WHERE\n",
        "  {\n",
        "    VALUES ?item {\"\"\" + str + \"\"\"}\n",
        "    SERVICE wikibase:label { bd:serviceParam wikibase:language \"[AUTO_LANGUAGE],en\". }\n",
        "  }\n",
        "  \"\"\")\n",
        "  sparql.setReturnFormat(JSON)\n",
        "  results = sparql.query().convert()\n",
        "  results_df = pd.json_normalize(results['results']['bindings'])\n",
        "  for j in results_df['item.value']:\n",
        "      val_entity_ids.append(j)\n",
        "  for j in results_df['itemLabel.value']:\n",
        "      val_entity_names.append(j)"
      ],
      "metadata": {
        "id": "sKbG8I6tb00N"
      },
      "execution_count": 10,
      "outputs": []
    },
    {
      "cell_type": "markdown",
      "source": [
        "Since SPARQL returns URI, extract ID from URI"
      ],
      "metadata": {
        "id": "pUDLV1bTVy2r"
      }
    },
    {
      "cell_type": "code",
      "source": [
        "entity_ids_without_link = []  #get ids from URIs\n",
        "for j in entity_ids:\n",
        "  entity_ids_without_link.append(j.split(\"http://www.wikidata.org/entity/\",1)[1])\n",
        "\n",
        "val_entity_ids_without_link = []\n",
        "for j in val_entity_ids:\n",
        "  val_entity_ids_without_link.append(j.split(\"http://www.wikidata.org/entity/\",1)[1])  "
      ],
      "metadata": {
        "id": "1VKlNA8UMJIh"
      },
      "execution_count": 11,
      "outputs": []
    },
    {
      "cell_type": "markdown",
      "source": [
        "New column containing ID for train and validation/test set"
      ],
      "metadata": {
        "id": "YylM8IFaV6l1"
      }
    },
    {
      "cell_type": "code",
      "source": [
        "new_df_column = []  #this will become the train_data new column, containing entities' labels\n",
        "for entity_id in train_data['entity_id']: #for every entity id in initial dataset\n",
        "  j=0\n",
        "  for parse in entity_ids_without_link: #find its id on list\n",
        "    if entity_id==parse:\n",
        "      new_df_column.append(entity_names[j]) #and find corresponding label\n",
        "      break\n",
        "    j += 1"
      ],
      "metadata": {
        "id": "R0cSbxyuC4GY"
      },
      "execution_count": 12,
      "outputs": []
    },
    {
      "cell_type": "code",
      "source": [
        "val_new_df_column = []  #this will become the val_data new column, containing entities' labels\n",
        "for entity_id in val_data['entity_id']: #for every entity id in initial dataset\n",
        "  j=0\n",
        "  for parse in val_entity_ids_without_link: #find its id on list\n",
        "    if entity_id==parse:\n",
        "      val_new_df_column.append(val_entity_names[j]) #and find corresponding label\n",
        "      break\n",
        "    j += 1"
      ],
      "metadata": {
        "id": "Wy59sGobei5B"
      },
      "execution_count": 13,
      "outputs": []
    },
    {
      "cell_type": "code",
      "source": [
        "train_data['entity_label'] = new_df_column  #new column containing entity id\n",
        "val_data['entity_label'] = val_new_df_column"
      ],
      "metadata": {
        "id": "iX0uLKIvQlMQ"
      },
      "execution_count": 14,
      "outputs": []
    },
    {
      "cell_type": "code",
      "source": [
        "columns_titles = [\"entity_id\",\"entity_label\",\"relation_id\",\"question\"]\n",
        "train_data=train_data.reindex(columns=columns_titles)\n",
        "val_data = val_data.reindex(columns=columns_titles)"
      ],
      "metadata": {
        "id": "N-5UlHQUVEg5"
      },
      "execution_count": 15,
      "outputs": []
    },
    {
      "cell_type": "markdown",
      "source": [
        "Create array of 0s and 1s representing entity label span"
      ],
      "metadata": {
        "id": "-5cwNOMAWAg0"
      }
    },
    {
      "cell_type": "code",
      "source": [
        "entity_span = []  #create entity span column\n",
        "parse = 0\n",
        "for question in train_data['question']:\n",
        "  current_entity = []\n",
        "  for word in question.split():\n",
        "    if word in train_data.iloc[parse]['entity_label'].casefold().split():\n",
        "      current_entity.append(1)\n",
        "    else:\n",
        "      current_entity.append(0)\n",
        "  entity_span.append(current_entity)\n",
        "  parse += 1\n",
        "\n",
        "train_data['entity_span'] = entity_span"
      ],
      "metadata": {
        "id": "dCzOF0wzsWjf"
      },
      "execution_count": 16,
      "outputs": []
    },
    {
      "cell_type": "code",
      "source": [
        "val_entity_span = []  #create entity span column for validation set\n",
        "parse = 0\n",
        "for question in val_data['question']:\n",
        "  current_entity = []\n",
        "  for word in question.split():\n",
        "    if word in val_data.iloc[parse]['entity_label'].casefold().split():\n",
        "      current_entity.append(1)\n",
        "    else:\n",
        "      current_entity.append(0)\n",
        "  val_entity_span.append(current_entity)\n",
        "  parse += 1\n",
        "\n",
        "val_data['entity_span'] = val_entity_span"
      ],
      "metadata": {
        "id": "lFBYIqkde-Wp"
      },
      "execution_count": 17,
      "outputs": []
    },
    {
      "cell_type": "code",
      "source": [
        "!pip install transformers\n",
        "from transformers import BertTokenizer\n",
        "tokenizer = BertTokenizer.from_pretrained('bert-base-uncased')"
      ],
      "metadata": {
        "id": "w1Tj9bmJae3j",
        "colab": {
          "base_uri": "https://localhost:8080/",
          "height": 530,
          "referenced_widgets": [
            "376fc4ba747440fc98a0e0802d5a7bd5",
            "c969eb37bd104a03bdd581f106c9d92e",
            "3d595c2251cf49e1a66f6de015b106cc",
            "48961b6bc33648bea62999f78d7bb28a",
            "0124164831a542aa929930910c45cb83",
            "23316535fe1941fa8ff632ec24d1b956",
            "34e06f184ce649fcba578cd4c03b66c7",
            "bfa9a04198814f2cbc9b5e2d6b05c6bc",
            "feb72f37e1534276beedbea7eace9348",
            "1125ce65ce2142e888d1f34d0d9c716e",
            "76a2ca71e4954adf9f97b956cb136045",
            "b4292ef046624deaa65b7752fbd57303",
            "7d4331cf4c654e5ca289b3f0c44aa4db",
            "00c28b95540d4533be9f90af38f1a539",
            "6cf2672c7f724d52855e7a936b94bb83",
            "c67718c8b95f4d0080c3e71c869c4b92",
            "df1cb0a7bc75489a89789660e016aec5",
            "36e17e5ab64248a4bc16cdbb7061912a",
            "623c51b950534524abbd382cd48a7912",
            "7a2e9e143d824792a4f80ec3f2ca3fb8",
            "5079f199ec444d2bad59b9011c0a8ccc",
            "1ee5819d91de4b6496b5d73bb92095dc",
            "67ba1888d34a48498e75d6d46c13ea07",
            "3e9600f67a464bbd8c3cea59932eb3e5",
            "aea1970d11b04aab813b6a02623c07f5",
            "a5cba0dd798245bfa903c7f7c743d085",
            "a85ac46596d04499973753dbfb9d0e3c",
            "6ca277d1825f48b0a68a42832d0b7f8d",
            "ba8ab90a50cd4909bd80f79142f8593f",
            "1c2b4c506ef04a2185b73b328ff9c985",
            "f3e44fab506344c0a75adf557feed563",
            "d74e844a71664777a2cd0e12e411befa",
            "e707afcac56b47498025389141eafae0"
          ]
        },
        "outputId": "567d36a5-0c82-44c4-92f3-a7aa9c263437"
      },
      "execution_count": 18,
      "outputs": [
        {
          "output_type": "stream",
          "name": "stdout",
          "text": [
            "Looking in indexes: https://pypi.org/simple, https://us-python.pkg.dev/colab-wheels/public/simple/\n",
            "Collecting transformers\n",
            "  Downloading transformers-4.26.1-py3-none-any.whl (6.3 MB)\n",
            "\u001b[2K     \u001b[90m━━━━━━━━━━━━━━━━━━━━━━━━━━━━━━━━━━━━━━━━\u001b[0m \u001b[32m6.3/6.3 MB\u001b[0m \u001b[31m54.6 MB/s\u001b[0m eta \u001b[36m0:00:00\u001b[0m\n",
            "\u001b[?25hRequirement already satisfied: tqdm>=4.27 in /usr/local/lib/python3.9/dist-packages (from transformers) (4.65.0)\n",
            "Requirement already satisfied: pyyaml>=5.1 in /usr/local/lib/python3.9/dist-packages (from transformers) (6.0)\n",
            "Requirement already satisfied: packaging>=20.0 in /usr/local/lib/python3.9/dist-packages (from transformers) (23.0)\n",
            "Requirement already satisfied: numpy>=1.17 in /usr/local/lib/python3.9/dist-packages (from transformers) (1.22.4)\n",
            "Collecting huggingface-hub<1.0,>=0.11.0\n",
            "  Downloading huggingface_hub-0.13.1-py3-none-any.whl (199 kB)\n",
            "\u001b[2K     \u001b[90m━━━━━━━━━━━━━━━━━━━━━━━━━━━━━━━━━━━━━━\u001b[0m \u001b[32m199.2/199.2 KB\u001b[0m \u001b[31m19.1 MB/s\u001b[0m eta \u001b[36m0:00:00\u001b[0m\n",
            "\u001b[?25hRequirement already satisfied: requests in /usr/local/lib/python3.9/dist-packages (from transformers) (2.25.1)\n",
            "Requirement already satisfied: filelock in /usr/local/lib/python3.9/dist-packages (from transformers) (3.9.0)\n",
            "Collecting tokenizers!=0.11.3,<0.14,>=0.11.1\n",
            "  Downloading tokenizers-0.13.2-cp39-cp39-manylinux_2_17_x86_64.manylinux2014_x86_64.whl (7.6 MB)\n",
            "\u001b[2K     \u001b[90m━━━━━━━━━━━━━━━━━━━━━━━━━━━━━━━━━━━━━━━━\u001b[0m \u001b[32m7.6/7.6 MB\u001b[0m \u001b[31m105.7 MB/s\u001b[0m eta \u001b[36m0:00:00\u001b[0m\n",
            "\u001b[?25hRequirement already satisfied: regex!=2019.12.17 in /usr/local/lib/python3.9/dist-packages (from transformers) (2022.6.2)\n",
            "Requirement already satisfied: typing-extensions>=3.7.4.3 in /usr/local/lib/python3.9/dist-packages (from huggingface-hub<1.0,>=0.11.0->transformers) (4.5.0)\n",
            "Requirement already satisfied: urllib3<1.27,>=1.21.1 in /usr/local/lib/python3.9/dist-packages (from requests->transformers) (1.26.14)\n",
            "Requirement already satisfied: chardet<5,>=3.0.2 in /usr/local/lib/python3.9/dist-packages (from requests->transformers) (4.0.0)\n",
            "Requirement already satisfied: certifi>=2017.4.17 in /usr/local/lib/python3.9/dist-packages (from requests->transformers) (2022.12.7)\n",
            "Requirement already satisfied: idna<3,>=2.5 in /usr/local/lib/python3.9/dist-packages (from requests->transformers) (2.10)\n",
            "Installing collected packages: tokenizers, huggingface-hub, transformers\n",
            "Successfully installed huggingface-hub-0.13.1 tokenizers-0.13.2 transformers-4.26.1\n"
          ]
        },
        {
          "output_type": "display_data",
          "data": {
            "text/plain": [
              "Downloading (…)solve/main/vocab.txt:   0%|          | 0.00/232k [00:00<?, ?B/s]"
            ],
            "application/vnd.jupyter.widget-view+json": {
              "version_major": 2,
              "version_minor": 0,
              "model_id": "376fc4ba747440fc98a0e0802d5a7bd5"
            }
          },
          "metadata": {}
        },
        {
          "output_type": "display_data",
          "data": {
            "text/plain": [
              "Downloading (…)okenizer_config.json:   0%|          | 0.00/28.0 [00:00<?, ?B/s]"
            ],
            "application/vnd.jupyter.widget-view+json": {
              "version_major": 2,
              "version_minor": 0,
              "model_id": "b4292ef046624deaa65b7752fbd57303"
            }
          },
          "metadata": {}
        },
        {
          "output_type": "display_data",
          "data": {
            "text/plain": [
              "Downloading (…)lve/main/config.json:   0%|          | 0.00/570 [00:00<?, ?B/s]"
            ],
            "application/vnd.jupyter.widget-view+json": {
              "version_major": 2,
              "version_minor": 0,
              "model_id": "67ba1888d34a48498e75d6d46c13ea07"
            }
          },
          "metadata": {}
        }
      ]
    },
    {
      "cell_type": "markdown",
      "source": [
        "Relation vocabulary for multi-label relation classification"
      ],
      "metadata": {
        "id": "ISDr1EowWLSE"
      }
    },
    {
      "cell_type": "code",
      "source": [
        "relation_vocabulary = []  #this will be the relations vocabulary, and the fine-tuned BERT model will classify each question relation as one of these categories \n",
        "for relation in train_data['relation_id']:\n",
        "  flag = 0\n",
        "  for already_saved_relation in relation_vocabulary:\n",
        "    if relation == already_saved_relation:\n",
        "      flag = 1\n",
        "      break\n",
        "  if flag == 0:\n",
        "    relation_vocabulary.append(relation)"
      ],
      "metadata": {
        "id": "h7Ue0A6FmUda"
      },
      "execution_count": 19,
      "outputs": []
    },
    {
      "cell_type": "markdown",
      "source": [
        "Save questions and their encodings in lists for convenience"
      ],
      "metadata": {
        "id": "dbIwnV4xWTa8"
      }
    },
    {
      "cell_type": "code",
      "source": [
        "train_questions = []\n",
        "for question in train_data['question']:\n",
        "  train_questions.append(question)\n",
        "train_encodings = tokenizer(train_questions, truncation=True, padding=True, return_tensors='pt')\n",
        "train_relations = []\n",
        "for relation in train_data['relation_id']:\n",
        "  count = 0\n",
        "  for relation_id in relation_vocabulary:\n",
        "    if relation == relation_id:\n",
        "      train_relations.append(count)\n",
        "    count += 1"
      ],
      "metadata": {
        "id": "AQAV2CmZns4g"
      },
      "execution_count": 20,
      "outputs": []
    },
    {
      "cell_type": "code",
      "source": [
        "val_questions = []\n",
        "for question in val_data['question']:\n",
        "  val_questions.append(question)\n",
        "val_encodings = tokenizer(val_questions, truncation=True, padding=True, return_tensors='pt')\n",
        "val_relations = []\n",
        "for relation in val_data['relation_id']:\n",
        "  count = 0\n",
        "  for relation_id in relation_vocabulary:\n",
        "    if relation == relation_id:\n",
        "      val_relations.append(count)\n",
        "    count += 1"
      ],
      "metadata": {
        "id": "AcMfpeGTfgcG"
      },
      "execution_count": 21,
      "outputs": []
    },
    {
      "cell_type": "markdown",
      "source": [
        "Make one-hot encoded matrices for entity span start index (train set)"
      ],
      "metadata": {
        "id": "aYtxAW8sWiR_"
      }
    },
    {
      "cell_type": "code",
      "source": [
        "train_span_start = [] #find span start\n",
        "for span in train_data['entity_span']:\n",
        "  train_span_cur = []\n",
        "  set_zero = 0\n",
        "  for flag in span:\n",
        "    if (flag == 1 and set_zero == 0):\n",
        "      set_zero = 1\n",
        "      train_span_cur.append(1)\n",
        "      continue\n",
        "    if (flag == 0 or (flag == 1 and set_zero == 1)):\n",
        "      train_span_cur.append(0)\n",
        "  train_span_start.append(train_span_cur)\n",
        "\n",
        "max = 0 \n",
        "for span in train_span_start:  #padding\n",
        "  if (len(span) > max):\n",
        "    max = len(span)\n",
        "for span in train_span_start:\n",
        "  for i in range(max - len(span)):\n",
        "    span.append(0)"
      ],
      "metadata": {
        "id": "lOdCF8Qi0QmZ"
      },
      "execution_count": 22,
      "outputs": []
    },
    {
      "cell_type": "markdown",
      "source": [
        "Find position of span start"
      ],
      "metadata": {
        "id": "5icm9SC3W6V5"
      }
    },
    {
      "cell_type": "code",
      "source": [
        "import random #span start index (position of entity span's start)\n",
        "\n",
        "train_span_start_index = []\n",
        "for i in train_span_start:\n",
        "  counter = 0\n",
        "  for parser in i:\n",
        "    if parser == 1:\n",
        "      train_span_start_index.append(counter)\n",
        "      break\n",
        "    counter += 1\n",
        "    if counter == len(i):   #if no span is detected (array is full of 0's, set the span start as a random number)\n",
        "      train_span_start_index.append(random.randint(1, 10))"
      ],
      "metadata": {
        "id": "kKZ0ZY4cNsDL"
      },
      "execution_count": 23,
      "outputs": []
    },
    {
      "cell_type": "markdown",
      "source": [
        "Make one-hot encoded matrices for entity span end index (train set)"
      ],
      "metadata": {
        "id": "AhvsFWXSW2VM"
      }
    },
    {
      "cell_type": "code",
      "source": [
        "train_span_end = [] #find span end\n",
        "for span in train_data['entity_span']:\n",
        "  train_span_cur = []\n",
        "  one_area = 0\n",
        "  counter = 0\n",
        "  for flag in span:\n",
        "    if flag == 0 and one_area == 0:\n",
        "      train_span_cur.append(0)\n",
        "    if flag == 1:\n",
        "      one_area = 1\n",
        "      train_span_cur.append(0)\n",
        "    if flag == 0 and one_area == 1:\n",
        "      train_span_cur[counter-1] = 1\n",
        "      train_span_cur.append(0)\n",
        "      one_area = 0\n",
        "    counter += 1\n",
        "  train_span_end.append(train_span_cur)\n",
        "\n",
        "max = 0\n",
        "for span in train_span_end:\n",
        "  if (len(span) > max):\n",
        "    max = len(span)\n",
        "for span in train_span_end:\n",
        "  for i in range(max - len(span)):\n",
        "    span.append(0)"
      ],
      "metadata": {
        "id": "uI-V0W-bNGlI"
      },
      "execution_count": 24,
      "outputs": []
    },
    {
      "cell_type": "markdown",
      "source": [
        "Find position of span end"
      ],
      "metadata": {
        "id": "ebVCMePRXP7x"
      }
    },
    {
      "cell_type": "code",
      "source": [
        "train_span_end_index = [] #span end index (position of entity span's end)\n",
        "for i in train_span_end:\n",
        "  counter = 0\n",
        "  for parser in i:\n",
        "    if parser == 1:\n",
        "      train_span_end_index.append(counter)\n",
        "      break\n",
        "    counter += 1\n",
        "    if counter == len(i):\n",
        "      train_span_end_index.append(random.randint(1, 10))"
      ],
      "metadata": {
        "id": "AUYHQPQENxqS"
      },
      "execution_count": 25,
      "outputs": []
    },
    {
      "cell_type": "markdown",
      "source": [
        "Same procedure as above for validation set"
      ],
      "metadata": {
        "id": "g2XXo03dXUAl"
      }
    },
    {
      "cell_type": "code",
      "source": [
        "val_span_start = [] #find span start on validation set\n",
        "for span in val_data['entity_span']:\n",
        "  val_span_cur = []\n",
        "  set_zero = 0\n",
        "  for flag in span:\n",
        "    if (flag == 1 and set_zero == 0):\n",
        "      set_zero = 1\n",
        "      val_span_cur.append(1)\n",
        "      continue\n",
        "    if (flag == 0 or (flag == 1 and set_zero == 1)):\n",
        "      val_span_cur.append(0)\n",
        "  val_span_start.append(val_span_cur)\n",
        "\n",
        "max = 0\n",
        "for span in val_span_start:\n",
        "  if (len(span) > max):\n",
        "    max = len(span)\n",
        "for span in val_span_start:\n",
        "  for i in range(max - len(span)):\n",
        "    span.append(0)"
      ],
      "metadata": {
        "id": "1oe_iu2Q4keW"
      },
      "execution_count": 26,
      "outputs": []
    },
    {
      "cell_type": "code",
      "source": [
        "val_span_start_index = [] #index of span start on validation set questions\n",
        "for i in val_span_start:\n",
        "  counter = 0\n",
        "  for parser in i:\n",
        "    if parser == 1:\n",
        "      val_span_start_index.append(counter)\n",
        "      break\n",
        "    counter += 1\n",
        "    if counter == len(i):\n",
        "      val_span_start_index.append(random.randint(1, 10))"
      ],
      "metadata": {
        "id": "03ZCJ3ION12c"
      },
      "execution_count": 27,
      "outputs": []
    },
    {
      "cell_type": "code",
      "source": [
        "val_span_end = [] #find span end on validation set\n",
        "for span in val_data['entity_span']:\n",
        "  val_span_cur = []\n",
        "  one_area = 0\n",
        "  counter = 0\n",
        "  for flag in span:\n",
        "    if flag == 0 and one_area == 0:\n",
        "      val_span_cur.append(0)\n",
        "    if flag == 1:\n",
        "      one_area = 1\n",
        "      val_span_cur.append(0)\n",
        "    if flag == 0 and one_area == 1:\n",
        "      val_span_cur[counter-1] = 1\n",
        "      val_span_cur.append(0)\n",
        "      one_area = 0\n",
        "    counter += 1\n",
        "  val_span_end.append(val_span_cur)\n",
        "\n",
        "max = 0\n",
        "for span in val_span_end:   #padding\n",
        "  if (len(span) > max):\n",
        "    max = len(span)\n",
        "for span in val_span_end:\n",
        "  for i in range(max - len(span)):\n",
        "    span.append(0)"
      ],
      "metadata": {
        "id": "_MTNQJERRdlB"
      },
      "execution_count": 28,
      "outputs": []
    },
    {
      "cell_type": "code",
      "source": [
        "val_span_end_index = [] #index of span ending on validation set questions\n",
        "for i in val_span_end:\n",
        "  counter = 0\n",
        "  for parser in i:\n",
        "    if parser == 1:\n",
        "      val_span_end_index.append(counter)\n",
        "      break\n",
        "    counter += 1\n",
        "    if counter == len(i):\n",
        "      val_span_end_index.append(random.randint(1, 10))"
      ],
      "metadata": {
        "id": "w9_eW7_pN7qr"
      },
      "execution_count": 29,
      "outputs": []
    },
    {
      "cell_type": "markdown",
      "source": [
        "Dataset for relation prediction model"
      ],
      "metadata": {
        "id": "w5UuRqVTFYYl"
      }
    },
    {
      "cell_type": "code",
      "source": [
        "import torch\n",
        "\n",
        "class Dataset(torch.utils.data.Dataset):\n",
        "    def __init__(self, encodings, labels):\n",
        "        self.encodings = encodings\n",
        "        self.labels = labels\n",
        "\n",
        "    def __getitem__(self, idx):\n",
        "        item = {key: torch.tensor(val[idx]) for key, val in self.encodings.items()}\n",
        "        item['labels'] = torch.tensor(self.labels[idx])\n",
        "        return item\n",
        "\n",
        "    def __len__(self):\n",
        "        return len(self.labels)\n",
        "\n",
        "train_dataset = Dataset(train_encodings, train_relations)\n",
        "val_dataset = Dataset(val_encodings, val_relations)"
      ],
      "metadata": {
        "id": "OHwL2NxmpuYU"
      },
      "execution_count": 30,
      "outputs": []
    },
    {
      "cell_type": "code",
      "source": [
        "train_dataloader = torch.utils.data.DataLoader(train_dataset, batch_size=16, shuffle=True) \n",
        "val_dataloader = torch.utils.data.DataLoader(val_dataset, batch_size=16, shuffle=True) "
      ],
      "metadata": {
        "id": "eD6xDZMqqt2y"
      },
      "execution_count": 31,
      "outputs": []
    },
    {
      "cell_type": "markdown",
      "source": [
        "Neural network for relation prediction"
      ],
      "metadata": {
        "id": "fni-l_C3Fi44"
      }
    },
    {
      "cell_type": "code",
      "source": [
        "from transformers import BertModel\n",
        "import torch.nn as nn\n",
        "\n",
        "class BertNetwork(nn.Module): \n",
        "    def __init__(self):\n",
        "        super(BertNetwork, self).__init__()\n",
        "      \n",
        "        self.bert = BertModel.from_pretrained(\"bert-base-uncased\")     \n",
        "        self.out = nn.Linear(768, len(relation_vocabulary)) # we know that BERT ouput size is 768\n",
        "        self.relu = nn.ReLU()\n",
        "        self.sigmoid = nn.Sigmoid()\n",
        "        self.dropout = nn.Dropout(p=0.1) \n",
        "\n",
        "    def forward(self, input_ids, attention):\n",
        "        unused, h1 = self.bert(input_ids = input_ids, attention_mask = attention, return_dict = False)\n",
        "        h2 = self.out(h1) \n",
        "        h3 = self.relu(h2)\n",
        "        return h3"
      ],
      "metadata": {
        "id": "YTg_-RPApP9S"
      },
      "execution_count": 32,
      "outputs": []
    },
    {
      "cell_type": "code",
      "source": [
        "device = torch.device('cuda' if (torch.cuda.is_available) else 'cpu')\n",
        "device = 'cpu'\n",
        "print('device: ', device)\n",
        "model = BertNetwork()\n",
        "model.to(device)"
      ],
      "metadata": {
        "id": "tIMnWUXrvI1u"
      },
      "execution_count": null,
      "outputs": []
    },
    {
      "cell_type": "markdown",
      "source": [
        "Train model for relation prediction"
      ],
      "metadata": {
        "id": "7LQy5JHwXZPC"
      }
    },
    {
      "cell_type": "code",
      "source": [
        "# import warnings\n",
        "# warnings.filterwarnings(\"ignore\")\n",
        "# from sklearn.metrics import f1_score\n",
        "# model.train()\n",
        "# optimizer = torch.optim.Adam(model.parameters(), lr=5e-5)\n",
        "# loss_func = nn.CrossEntropyLoss()\n",
        "# for epoch in range(1):\n",
        "#   num = 0\n",
        "#   loss_list = []\n",
        "#   accuracy_list = []\n",
        "#   f1_list = []\n",
        "#   accuracy_list_val = []\n",
        "#   f1_list_val = []\n",
        "#   for batch in train_dataloader:\n",
        "#     num += 1\n",
        "#     optimizer.zero_grad() \n",
        "#     output = model(batch['input_ids'],batch['attention_mask'])  \n",
        "#     loss = loss_func(output, batch['labels']) \n",
        "#     loss_list.append(loss.item())\n",
        "#     accuracy_list.append((torch.argmax(output, dim=1) == batch['labels']).sum().item()) \n",
        "#     f1_list.append(f1_score(batch['labels'], torch.argmax(output, dim=1), average='micro'))\n",
        "#     loss.backward() \n",
        "#     optimizer.step()\n",
        "#   with torch.no_grad():\n",
        "#     for val_batch in val_dataloader:\n",
        "#       output = model(val_batch['input_ids'],val_batch['attention_mask'])  \n",
        "#       accuracy_list_val.append((torch.argmax(output, dim=1) == val_batch['labels']).sum().item()) \n",
        "#       f1_list_val.append(f1_score(val_batch['labels'],torch.argmax(output, dim=1), average='micro'))\n",
        "#   print('Finished epoch ', epoch, 'with loss ', sum(loss_list)/len(loss_list), ', train accuracy', sum(accuracy_list)/len(train_dataloader.dataset), ', validation accuracy', sum(accuracy_list_val)/len(val_dataloader.dataset))\n",
        "#   print('Train F1 score', sum(f1_list)/len(train_dataloader), ', validation F1 score ', sum(f1_list_val)/len(val_dataloader))"
      ],
      "metadata": {
        "id": "c0MVxsOEu-rw"
      },
      "execution_count": 34,
      "outputs": []
    },
    {
      "cell_type": "markdown",
      "source": [
        "Save model"
      ],
      "metadata": {
        "id": "6ZR9SSbzXhWR"
      }
    },
    {
      "cell_type": "code",
      "source": [
        "# torch.save(model.state_dict(),'drive/MyDrive/relation_model')"
      ],
      "metadata": {
        "id": "AwAu7_wsChI2"
      },
      "execution_count": 35,
      "outputs": []
    },
    {
      "cell_type": "markdown",
      "source": [
        "Entity span prediction\n"
      ],
      "metadata": {
        "id": "MdBAW2C-DQ0S"
      }
    },
    {
      "cell_type": "code",
      "source": [
        "class SpanDataset(torch.utils.data.Dataset):\n",
        "    def __init__(self, encodings, span_start_indexes, span_end_indexes):\n",
        "        self.encodings = encodings\n",
        "        self.span_start_indexes = span_start_indexes\n",
        "        self.span_end_indexes = span_end_indexes\n",
        "\n",
        "    def __getitem__(self, idx):\n",
        "        item = {key: torch.tensor(val[idx]) for key, val in self.encodings.items()}\n",
        "        item['span_start_indexes'] = torch.tensor(self.span_start_indexes[idx])\n",
        "        item['span_end_indexes'] = torch.tensor(self.span_end_indexes[idx])\n",
        "        return item\n",
        "\n",
        "    def __len__(self):\n",
        "        return len(self.span_start_indexes)\n",
        "\n",
        "entity_train_dataset = SpanDataset(train_encodings, train_span_start_index, train_span_end_index)\n",
        "entity_val_dataset = SpanDataset(val_encodings, val_span_start_index, val_span_end_index)"
      ],
      "metadata": {
        "id": "-UW5ruk4DMKL"
      },
      "execution_count": 36,
      "outputs": []
    },
    {
      "cell_type": "code",
      "source": [
        "entity_train_dataloader = torch.utils.data.DataLoader(entity_train_dataset, batch_size=16, shuffle=True) \n",
        "entity_val_dataloader = torch.utils.data.DataLoader(entity_val_dataset, batch_size=16, shuffle=True) "
      ],
      "metadata": {
        "id": "xJiIor4sDwGW"
      },
      "execution_count": 37,
      "outputs": []
    },
    {
      "cell_type": "code",
      "source": [
        "class EntityBertNetwork(nn.Module): \n",
        "    def __init__(self):\n",
        "        super(EntityBertNetwork, self).__init__()\n",
        "      \n",
        "        self.bert = BertModel.from_pretrained(\"bert-base-uncased\")     \n",
        "        self.out_start = nn.Linear(768, len(train_span_start[1])) # we know that BERT ouput size is 768\n",
        "        self.out_end = nn.Linear(768, len(train_span_end[1]))\n",
        "        self.relu = nn.ReLU()\n",
        "        self.sigmoid = nn.Sigmoid()\n",
        "        self.dropout = nn.Dropout(p=0.1) \n",
        "\n",
        "    def forward(self, input_ids, attention):\n",
        "        unused, h1 = self.bert(input_ids = input_ids, attention_mask = attention, return_dict = False)\n",
        "        h2_start = self.out_start(h1) \n",
        "        h3_start = self.relu(h2_start)\n",
        "        h2_end = self.out_end(h1) \n",
        "        h3_end = self.relu(h2_end)\n",
        "        return h3_start, h3_end"
      ],
      "metadata": {
        "id": "NuVhcih9EpLT"
      },
      "execution_count": 38,
      "outputs": []
    },
    {
      "cell_type": "code",
      "source": [
        "device = torch.device('cuda' if (torch.cuda.is_available) else 'cpu')\n",
        "device = 'cpu'\n",
        "print('device: ', device)\n",
        "entity_model = EntityBertNetwork()\n",
        "entity_model.to(device)"
      ],
      "metadata": {
        "id": "nBWmaMpGFENV"
      },
      "execution_count": null,
      "outputs": []
    },
    {
      "cell_type": "markdown",
      "source": [
        "Train entity span prediction model"
      ],
      "metadata": {
        "id": "QBhnrDxfKHbB"
      }
    },
    {
      "cell_type": "code",
      "source": [
        "# import warnings\n",
        "# warnings.filterwarnings(\"ignore\")\n",
        "# from sklearn.metrics import f1_score\n",
        "\n",
        "# entity_model.train()\n",
        "# optimizer = torch.optim.Adam(entity_model.parameters(), lr=5e-5)\n",
        "# loss_func = nn.CrossEntropyLoss()\n",
        "\n",
        "# for epoch in range(1):\n",
        "#   loss_list = []  #initialize evaluation metrics for new epoch\n",
        "#   accuracy_list = []\n",
        "#   f1_list = []\n",
        "#   f1_list_end = []\n",
        "#   accuracy_list_val = []\n",
        "#   f1_list_val = []\n",
        "#   f1_list_val_end = []\n",
        "\n",
        "#   for batch in entity_train_dataloader:\n",
        "#     optimizer.zero_grad() \n",
        "\n",
        "#     output_start, output_end = entity_model(batch['input_ids'], batch['attention_mask'])  #predict values\n",
        "\n",
        "#     loss = loss_func(output_start, batch['span_start_indexes']) + loss_func(output_end, batch['span_end_indexes'])\n",
        "#     loss_list.append(loss.item())\n",
        "\n",
        "#     accuracy_list.append((torch.argmax(output_start, dim=1) == batch['span_start_indexes']).sum().item()) \n",
        "\n",
        "#     f1_list.append(f1_score(batch['span_start_indexes'], torch.argmax(output_start, dim=1), average='micro')) #batch F1 score for entity span start\n",
        "#     f1_list_end.append(f1_score(batch['span_end_indexes'], torch.argmax(output_end, dim=1), average='micro')) #batch F1 score for entity span end\n",
        "\n",
        "#     loss.backward() \n",
        "#     optimizer.step()\n",
        "#   with torch.no_grad(): #validation set evaluation\n",
        "#     for val_batch in entity_val_dataloader:\n",
        "\n",
        "#       output_start, output_end = entity_model(val_batch['input_ids'],val_batch['attention_mask'])\n",
        "#       accuracy_list_val.append((torch.argmax(output_start, dim=1) == val_batch['span_start_indexes']).sum().item()) \n",
        "#       f1_list_val.append(f1_score(val_batch['span_start_indexes'],torch.argmax(output_start, dim=1), average='micro'))\n",
        "#       f1_list_val_end.append(f1_score(val_batch['span_end_indexes'],torch.argmax(output_end, dim=1), average='micro'))\n",
        "#   #print epoch results\n",
        "#   print('Finished epoch ', epoch, 'with loss ', sum(loss_list)/len(loss_list))\n",
        "#   print('Train accuracy start', sum(accuracy_list)/len(train_dataloader.dataset), ', validation accuracy start', sum(accuracy_list_val)/len(val_dataloader.dataset))\n",
        "#   print('Train F1 score start', sum(f1_list)/len(train_dataloader), ', validation F1 score start ', sum(f1_list_val)/len(val_dataloader))\n",
        "#   print('Train F1 score end', sum(f1_list_end)/len(train_dataloader), ', validation F1 score end ', sum(f1_list_val_end)/len(val_dataloader))"
      ],
      "metadata": {
        "id": "w61pbghdFJZh"
      },
      "execution_count": 40,
      "outputs": []
    },
    {
      "cell_type": "markdown",
      "source": [
        "Save model"
      ],
      "metadata": {
        "id": "WTVCJE9HXmrC"
      }
    },
    {
      "cell_type": "code",
      "source": [
        "# torch.save(entity_model.state_dict(),'drive/MyDrive/entity_model_2')"
      ],
      "metadata": {
        "id": "n092rS75CtJy"
      },
      "execution_count": 41,
      "outputs": []
    },
    {
      "cell_type": "markdown",
      "source": [
        "Evaluate models on test set"
      ],
      "metadata": {
        "id": "Y7z3JKLvFGf-"
      }
    },
    {
      "cell_type": "code",
      "source": [
        "#Load already trained model\n",
        "model.load_state_dict(torch.load('relation_model'))\n",
        "entity_model.load_state_dict(torch.load('entity_model'))"
      ],
      "metadata": {
        "colab": {
          "base_uri": "https://localhost:8080/"
        },
        "id": "opjk4WMNFEkn",
        "outputId": "befa0631-e57b-4030-f198-2c4a9627117c"
      },
      "execution_count": 44,
      "outputs": [
        {
          "output_type": "execute_result",
          "data": {
            "text/plain": [
              "<All keys matched successfully>"
            ]
          },
          "metadata": {},
          "execution_count": 44
        }
      ]
    },
    {
      "cell_type": "code",
      "source": [
        "import warnings\n",
        "warnings.filterwarnings(\"ignore\")\n",
        "from sklearn.metrics import f1_score\n",
        "\n",
        "accuracy_list_val = []\n",
        "f1_list_val = []\n",
        "\n",
        "with torch.no_grad():\n",
        "    for val_batch in val_dataloader:\n",
        "      output = model(val_batch['input_ids'],val_batch['attention_mask'])  \n",
        "      accuracy_list_val.append((torch.argmax(output, dim=1) == val_batch['labels']).sum().item()) \n",
        "      f1_list_val.append(f1_score(val_batch['labels'],torch.argmax(output, dim=1), average='micro'))\n",
        "print('Test accuracy for relation prediction', sum(accuracy_list_val)/len(val_dataloader.dataset))\n",
        "print('Test F1 score for relation prediction', sum(f1_list_val)/len(val_dataloader))"
      ],
      "metadata": {
        "colab": {
          "base_uri": "https://localhost:8080/"
        },
        "id": "Gssjj0RUFpuM",
        "outputId": "94e2b350-3244-4167-9a31-1bcfccba4051"
      },
      "execution_count": 46,
      "outputs": [
        {
          "output_type": "stream",
          "name": "stdout",
          "text": [
            "Test accuracy for relation prediction 0.9395233013162576\n",
            "Test F1 score for relation prediction 0.9396306818181818\n"
          ]
        }
      ]
    },
    {
      "cell_type": "code",
      "source": [
        "accuracy_list = []\n",
        "accuracy_list_val = []\n",
        "f1_list_val = []\n",
        "f1_list_val_end = []\n",
        "\n",
        "with torch.no_grad(): #validation set evaluation\n",
        "    for val_batch in entity_val_dataloader:\n",
        "\n",
        "      output_start, output_end = entity_model(val_batch['input_ids'],val_batch['attention_mask'])\n",
        "      accuracy_list_val.append((torch.argmax(output_start, dim=1) == val_batch['span_start_indexes']).sum().item()) \n",
        "      f1_list_val.append(f1_score(val_batch['span_start_indexes'],torch.argmax(output_start, dim=1), average='micro'))\n",
        "      f1_list_val_end.append(f1_score(val_batch['span_end_indexes'],torch.argmax(output_end, dim=1), average='micro'))\n",
        "print('Test accuracy for span prediction start', sum(accuracy_list_val)/len(val_dataloader.dataset))\n",
        "print('Test F1 score for span prediction start', sum(f1_list_val)/len(val_dataloader))\n",
        "print('Test F1 score for span prediction end', sum(f1_list_val_end)/len(val_dataloader))"
      ],
      "metadata": {
        "colab": {
          "base_uri": "https://localhost:8080/"
        },
        "id": "56rKrO1eFuRu",
        "outputId": "a0d9baf0-f78e-428e-b662-719e02eacc91"
      },
      "execution_count": 47,
      "outputs": [
        {
          "output_type": "stream",
          "name": "stdout",
          "text": [
            "Test accuracy for span prediction start 0.7893987904660263\n",
            "Test F1 score for span prediction start 0.7897727272727273\n",
            "Test F1 score for span prediction end 0.5365175189393939\n"
          ]
        }
      ]
    },
    {
      "cell_type": "markdown",
      "source": [
        "QA engine ☺ "
      ],
      "metadata": {
        "id": "AcJpMW4zH_z-"
      }
    },
    {
      "cell_type": "code",
      "source": [
        "print('Welcome to the question answering engine. Type \\'exit\\' to quit ')\n",
        "while(1):\n",
        "  question = input()  #read question\n",
        "  if question == \"exit\":\n",
        "    break\n",
        "  question_bert_ready = tokenizer(question, return_tensors = 'pt')  #prepare question for BERT model\n",
        "  relation_pred = model(question_bert_ready['input_ids'],question_bert_ready['attention_mask'])  #predict question relation\n",
        "  entity_start, entity_end = entity_model(question_bert_ready['input_ids'],question_bert_ready['attention_mask']) #predict question entity span\n",
        "\n",
        "  entity_name = ''  #initialize entity name\n",
        "  counter = 0\n",
        "  for question_word in question.split():  #save entity label\n",
        "    if counter >= torch.argmax(entity_start, dim=1).item() and counter <= torch.argmax(entity_end, dim=1).item():\n",
        "      if entity_name == '':\n",
        "        entity_name = entity_name + question_word\n",
        "      else:\n",
        "        entity_name = entity_name + ' ' + question_word #add gap between words\n",
        "    counter += 1\n",
        "  print('entity_name ', entity_name)\n",
        "\n",
        "  relation = relation_vocabulary[torch.argmax(relation_pred, dim=1).item()] #save relation\n",
        "  print('relation ',relation_vocabulary[torch.argmax(relation_pred, dim=1).item()])\n",
        "  counter = 0\n",
        "  for parser in train_data['entity_label']: #for given entity label, find its ID for sparql\n",
        "    if parser.lower().find(entity_name.lower()) >= 0:\n",
        "      entity_id = train_data['entity_id'][counter]\n",
        "    counter += 1\n",
        "  print('entity_id ', entity_id)\n",
        "\n",
        "  #ask for an answer to given entity and relation\n",
        "  sparql.setQuery(\"\"\" \n",
        "  SELECT ?item ?itemLabel \n",
        "  WHERE \n",
        "  {\n",
        "    wd:\"\"\" + entity_id + \"\"\" wdt:\"\"\" + relation + \"\"\" ?item.\n",
        "    SERVICE wikibase:label { bd:serviceParam wikibase:language \"[AUTO_LANGUAGE],en\". } \n",
        "  }\n",
        "    \"\"\")\n",
        "  sparql.setReturnFormat(JSON)\n",
        "  results = sparql.query().convert()\n",
        "  results_df = pd.json_normalize(results['results']['bindings'])\n",
        "  if results_df.empty:  #if sparql returned no answer, print message\n",
        "    print('Sorry, no answer available!')\n",
        "    continue\n",
        "  for j in results_df['item.value']:\n",
        "      answer_id = j\n",
        "      break\n",
        "  for j in results_df['itemLabel.value']:\n",
        "      answer_name = j\n",
        "      break\n",
        "  print('answer: ', answer_name)  #else print first returned answer :)"
      ],
      "metadata": {
        "id": "CWqU4T8ENF1T",
        "colab": {
          "base_uri": "https://localhost:8080/"
        },
        "outputId": "190e61e7-b268-4580-c255-4d2ec908bbf7"
      },
      "execution_count": 98,
      "outputs": [
        {
          "name": "stdout",
          "output_type": "stream",
          "text": [
            "Welcome to the question answering engine. Type 'exit' to quit \n",
            "where was Scream 4 filmed\n",
            "entity_name  Scream 4\n",
            "relation  P495\n",
            "entity_id  Q323392\n",
            "answer:  United States of America\n",
            "what gender is liliana cavani\n",
            "entity_name  liliana\n",
            "relation  P21\n",
            "entity_id  Q771436\n",
            "answer:  female\n",
            "what is the capital of Greece\n",
            "entity_name  \n",
            "relation  R17\n",
            "entity_id  Q926822\n",
            "Sorry, no answer available!\n",
            "when was benny peled born\n",
            "entity_name  benny peled\n",
            "relation  P19\n",
            "entity_id  Q2915872\n",
            "answer:  Tel Aviv\n",
            "exit\n"
          ]
        }
      ]
    }
  ]
}